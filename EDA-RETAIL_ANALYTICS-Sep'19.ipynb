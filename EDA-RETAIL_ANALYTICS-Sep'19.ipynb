{
 "cells": [
  {
   "cell_type": "markdown",
   "metadata": {},
   "source": [
    "## RETAIL ANALYTICS -  EDA"
   ]
  },
  {
   "cell_type": "code",
   "execution_count": 1,
   "metadata": {},
   "outputs": [],
   "source": [
    "import pandas as pd\n",
    "import numpy as np\n",
    "import matplotlib.pyplot as plt\n",
    "import seaborn as sns"
   ]
  },
  {
   "cell_type": "code",
   "execution_count": 2,
   "metadata": {},
   "outputs": [
    {
     "data": {
      "text/plain": [
       "'\\n#Import `os` \\nimport os\\n\\n# Retrieve current working directory (`cwd`)\\ncwd = os.getcwd()\\ncwd\\n\\n# Change directory \\nos.chdir(\"/EDA/EDA case study/Retail_analytices\")\\n\\n# List all files and directories in current directory\\nos.listdir(\\'.\\')\\n\\n#file = \\'EDA-RETAIL_ANALYTICS-Sep19.csv\\'\\n\\n#data = pd.read_csv(file)\\n'"
      ]
     },
     "execution_count": 2,
     "metadata": {},
     "output_type": "execute_result"
    }
   ],
   "source": [
    "\"\"\"\n",
    "#Import `os` \n",
    "import os\n",
    "\n",
    "# Retrieve current working directory (`cwd`)\n",
    "cwd = os.getcwd()\n",
    "cwd\n",
    "\n",
    "# Change directory \n",
    "os.chdir(\"/EDA/EDA case study/Retail_analytices\")\n",
    "\n",
    "# List all files and directories in current directory\n",
    "os.listdir('.')\n",
    "\n",
    "#file = 'EDA-RETAIL_ANALYTICS-Sep19.csv'\n",
    "\n",
    "#data = pd.read_csv(file)\n",
    "\"\"\"\n"
   ]
  },
  {
   "cell_type": "code",
   "execution_count": 95,
   "metadata": {},
   "outputs": [],
   "source": [
    "data = pd.read_csv('EDA-RETAIL_ANALYTICS-Sep19.csv', encoding = 'latin1')"
   ]
  },
  {
   "cell_type": "code",
   "execution_count": 96,
   "metadata": {},
   "outputs": [
    {
     "data": {
      "text/plain": [
       "Index(['Month', 'Enquiry Date', 'Enquiry Id', 'Allocation Status', 'Status',\n",
       "       'State', 'City', 'Pincode', 'Type of Project', 'No of Windows',\n",
       "       'Source', 'Zone', 'Dealer Name', 'First Action-Call made',\n",
       "       'Date DD/MM/YY', 'First Action-Call Status',\n",
       "       'Date of Appointment (DD/MM/YY)', 'Second Action-Customer Meeting',\n",
       "       'Date DD/MM/YY.1', 'Second Action-Call Status',\n",
       "       'Third Action-Quote Given', 'Date DD/MM/YY.2', 'Q Val. (Rs. Lac)',\n",
       "       'Quote QTY', ' Order Recd\\Lost ', 'Date DD/MM/YY.3',\n",
       "       'Order Val. (Rs. Lac)', 'Order QTY',\n",
       "       'Quote ID (as per match to CCC Records)',\n",
       "       ' Remarks-Brand and value if lost to UPVC ',\n",
       "       'Second Action-Call Status.1', 'Remarks', 'Price Per Sft', 'Benefits',\n",
       "       'Aesthetics', 'Reduce Street Noise', 'Low Maintenance', 'Monsoon Proof',\n",
       "       'Better Lighting', 'Reduce AC Energy Cost'],\n",
       "      dtype='object')"
      ]
     },
     "execution_count": 96,
     "metadata": {},
     "output_type": "execute_result"
    }
   ],
   "source": [
    "data.columns"
   ]
  },
  {
   "cell_type": "code",
   "execution_count": 97,
   "metadata": {},
   "outputs": [],
   "source": [
    "data.columns = ['Month', 'Enquiry_Date', 'Enquiry_Id', 'Allocation_Status', 'Status',\n",
    "                   'State', 'City', 'Pincode', 'Type_of_Project', 'No_of_Windows',\n",
    "                   'Source', 'Zone', 'Dealer_Name', 'First_Action-Call_made',\n",
    "                   'Date_DD/MM/YY', 'First-Action-Call-Status',\n",
    "                   'Date of Appointment (DD/MM/YY)', 'Second Action-Customer Meeting',\n",
    "       'Date-DD/MM/YY.1', 'Second-Action-Call-Status',\n",
    "       'Third-Action-Quote-Given', 'Date-DD/MM/YY.2', 'Q-Val.(Rs.Lac)',\n",
    "       'Quote-QTY', 'Order-(Recd\\Lost)', 'Date-DD/MM/YY.3',\n",
    "       'Order-Val.(Rs.Lac)', 'Order_QTY',\n",
    "       'Quote_ID(as_per_match_to_CCC_Records)',\n",
    "       'Remarks-Brand-and-value-if-lost-to-UPVC',\n",
    "       'Second-Action-Call-Status.1', 'Remarks', 'Price_Per_Sft', 'Benefits',\n",
    "       'Aesthetics', 'Reduce_Street_Noise', 'Low_Maintenance', 'Monsoon_Proof',\n",
    "       'Better_Lighting', 'Reduce_AC_Energy_Cost']"
   ]
  },
  {
   "cell_type": "code",
   "execution_count": 98,
   "metadata": {},
   "outputs": [
    {
     "data": {
      "text/html": [
       "<div>\n",
       "<style scoped>\n",
       "    .dataframe tbody tr th:only-of-type {\n",
       "        vertical-align: middle;\n",
       "    }\n",
       "\n",
       "    .dataframe tbody tr th {\n",
       "        vertical-align: top;\n",
       "    }\n",
       "\n",
       "    .dataframe thead th {\n",
       "        text-align: right;\n",
       "    }\n",
       "</style>\n",
       "<table border=\"1\" class=\"dataframe\">\n",
       "  <thead>\n",
       "    <tr style=\"text-align: right;\">\n",
       "      <th></th>\n",
       "      <th>Pincode</th>\n",
       "      <th>Q-Val.(Rs.Lac)</th>\n",
       "      <th>Order-Val.(Rs.Lac)</th>\n",
       "      <th>Order_QTY</th>\n",
       "      <th>Second-Action-Call-Status.1</th>\n",
       "      <th>Price_Per_Sft</th>\n",
       "      <th>Aesthetics</th>\n",
       "      <th>Reduce_Street_Noise</th>\n",
       "      <th>Low_Maintenance</th>\n",
       "      <th>Monsoon_Proof</th>\n",
       "      <th>Better_Lighting</th>\n",
       "      <th>Reduce_AC_Energy_Cost</th>\n",
       "    </tr>\n",
       "  </thead>\n",
       "  <tbody>\n",
       "    <tr>\n",
       "      <th>count</th>\n",
       "      <td>229.000000</td>\n",
       "      <td>183.000000</td>\n",
       "      <td>48.000000</td>\n",
       "      <td>48.000000</td>\n",
       "      <td>0.0</td>\n",
       "      <td>229.000000</td>\n",
       "      <td>37.000000</td>\n",
       "      <td>37.000000</td>\n",
       "      <td>37.000000</td>\n",
       "      <td>37.000000</td>\n",
       "      <td>37.000000</td>\n",
       "      <td>37.000000</td>\n",
       "    </tr>\n",
       "    <tr>\n",
       "      <th>mean</th>\n",
       "      <td>601742.572052</td>\n",
       "      <td>1.842459</td>\n",
       "      <td>1.874375</td>\n",
       "      <td>10.229167</td>\n",
       "      <td>NaN</td>\n",
       "      <td>1045.323144</td>\n",
       "      <td>0.243243</td>\n",
       "      <td>0.648649</td>\n",
       "      <td>0.486486</td>\n",
       "      <td>0.081081</td>\n",
       "      <td>0.027027</td>\n",
       "      <td>0.162162</td>\n",
       "    </tr>\n",
       "    <tr>\n",
       "      <th>std</th>\n",
       "      <td>6573.378113</td>\n",
       "      <td>2.595590</td>\n",
       "      <td>2.313372</td>\n",
       "      <td>14.925688</td>\n",
       "      <td>NaN</td>\n",
       "      <td>220.032076</td>\n",
       "      <td>0.434959</td>\n",
       "      <td>0.483978</td>\n",
       "      <td>0.506712</td>\n",
       "      <td>0.276725</td>\n",
       "      <td>0.164399</td>\n",
       "      <td>0.373684</td>\n",
       "    </tr>\n",
       "    <tr>\n",
       "      <th>min</th>\n",
       "      <td>600001.000000</td>\n",
       "      <td>0.010000</td>\n",
       "      <td>0.070000</td>\n",
       "      <td>1.000000</td>\n",
       "      <td>NaN</td>\n",
       "      <td>650.000000</td>\n",
       "      <td>0.000000</td>\n",
       "      <td>0.000000</td>\n",
       "      <td>0.000000</td>\n",
       "      <td>0.000000</td>\n",
       "      <td>0.000000</td>\n",
       "      <td>0.000000</td>\n",
       "    </tr>\n",
       "    <tr>\n",
       "      <th>25%</th>\n",
       "      <td>600033.000000</td>\n",
       "      <td>0.550000</td>\n",
       "      <td>0.530000</td>\n",
       "      <td>2.000000</td>\n",
       "      <td>NaN</td>\n",
       "      <td>921.000000</td>\n",
       "      <td>0.000000</td>\n",
       "      <td>0.000000</td>\n",
       "      <td>0.000000</td>\n",
       "      <td>0.000000</td>\n",
       "      <td>0.000000</td>\n",
       "      <td>0.000000</td>\n",
       "    </tr>\n",
       "    <tr>\n",
       "      <th>50%</th>\n",
       "      <td>600059.000000</td>\n",
       "      <td>1.070000</td>\n",
       "      <td>1.150000</td>\n",
       "      <td>6.000000</td>\n",
       "      <td>NaN</td>\n",
       "      <td>1030.000000</td>\n",
       "      <td>0.000000</td>\n",
       "      <td>1.000000</td>\n",
       "      <td>0.000000</td>\n",
       "      <td>0.000000</td>\n",
       "      <td>0.000000</td>\n",
       "      <td>0.000000</td>\n",
       "    </tr>\n",
       "    <tr>\n",
       "      <th>75%</th>\n",
       "      <td>600099.000000</td>\n",
       "      <td>2.000000</td>\n",
       "      <td>1.622500</td>\n",
       "      <td>10.500000</td>\n",
       "      <td>NaN</td>\n",
       "      <td>1129.000000</td>\n",
       "      <td>0.000000</td>\n",
       "      <td>1.000000</td>\n",
       "      <td>1.000000</td>\n",
       "      <td>0.000000</td>\n",
       "      <td>0.000000</td>\n",
       "      <td>0.000000</td>\n",
       "    </tr>\n",
       "    <tr>\n",
       "      <th>max</th>\n",
       "      <td>635810.000000</td>\n",
       "      <td>25.000000</td>\n",
       "      <td>10.950000</td>\n",
       "      <td>73.000000</td>\n",
       "      <td>NaN</td>\n",
       "      <td>3121.000000</td>\n",
       "      <td>1.000000</td>\n",
       "      <td>1.000000</td>\n",
       "      <td>1.000000</td>\n",
       "      <td>1.000000</td>\n",
       "      <td>1.000000</td>\n",
       "      <td>1.000000</td>\n",
       "    </tr>\n",
       "  </tbody>\n",
       "</table>\n",
       "</div>"
      ],
      "text/plain": [
       "             Pincode  Q-Val.(Rs.Lac)  Order-Val.(Rs.Lac)  Order_QTY  \\\n",
       "count     229.000000      183.000000           48.000000  48.000000   \n",
       "mean   601742.572052        1.842459            1.874375  10.229167   \n",
       "std      6573.378113        2.595590            2.313372  14.925688   \n",
       "min    600001.000000        0.010000            0.070000   1.000000   \n",
       "25%    600033.000000        0.550000            0.530000   2.000000   \n",
       "50%    600059.000000        1.070000            1.150000   6.000000   \n",
       "75%    600099.000000        2.000000            1.622500  10.500000   \n",
       "max    635810.000000       25.000000           10.950000  73.000000   \n",
       "\n",
       "       Second-Action-Call-Status.1  Price_Per_Sft  Aesthetics  \\\n",
       "count                          0.0     229.000000   37.000000   \n",
       "mean                           NaN    1045.323144    0.243243   \n",
       "std                            NaN     220.032076    0.434959   \n",
       "min                            NaN     650.000000    0.000000   \n",
       "25%                            NaN     921.000000    0.000000   \n",
       "50%                            NaN    1030.000000    0.000000   \n",
       "75%                            NaN    1129.000000    0.000000   \n",
       "max                            NaN    3121.000000    1.000000   \n",
       "\n",
       "       Reduce_Street_Noise  Low_Maintenance  Monsoon_Proof  Better_Lighting  \\\n",
       "count            37.000000        37.000000      37.000000        37.000000   \n",
       "mean              0.648649         0.486486       0.081081         0.027027   \n",
       "std               0.483978         0.506712       0.276725         0.164399   \n",
       "min               0.000000         0.000000       0.000000         0.000000   \n",
       "25%               0.000000         0.000000       0.000000         0.000000   \n",
       "50%               1.000000         0.000000       0.000000         0.000000   \n",
       "75%               1.000000         1.000000       0.000000         0.000000   \n",
       "max               1.000000         1.000000       1.000000         1.000000   \n",
       "\n",
       "       Reduce_AC_Energy_Cost  \n",
       "count              37.000000  \n",
       "mean                0.162162  \n",
       "std                 0.373684  \n",
       "min                 0.000000  \n",
       "25%                 0.000000  \n",
       "50%                 0.000000  \n",
       "75%                 0.000000  \n",
       "max                 1.000000  "
      ]
     },
     "execution_count": 98,
     "metadata": {},
     "output_type": "execute_result"
    }
   ],
   "source": [
    "data.describe()"
   ]
  },
  {
   "cell_type": "code",
   "execution_count": 99,
   "metadata": {},
   "outputs": [
    {
     "data": {
      "text/plain": [
       "(229, 40)"
      ]
     },
     "execution_count": 99,
     "metadata": {},
     "output_type": "execute_result"
    }
   ],
   "source": [
    "data.shape"
   ]
  },
  {
   "cell_type": "code",
   "execution_count": 100,
   "metadata": {},
   "outputs": [
    {
     "data": {
      "text/html": [
       "<div>\n",
       "<style scoped>\n",
       "    .dataframe tbody tr th:only-of-type {\n",
       "        vertical-align: middle;\n",
       "    }\n",
       "\n",
       "    .dataframe tbody tr th {\n",
       "        vertical-align: top;\n",
       "    }\n",
       "\n",
       "    .dataframe thead th {\n",
       "        text-align: right;\n",
       "    }\n",
       "</style>\n",
       "<table border=\"1\" class=\"dataframe\">\n",
       "  <thead>\n",
       "    <tr style=\"text-align: right;\">\n",
       "      <th></th>\n",
       "      <th>Month</th>\n",
       "      <th>Enquiry_Date</th>\n",
       "      <th>Enquiry_Id</th>\n",
       "      <th>Allocation_Status</th>\n",
       "      <th>Status</th>\n",
       "      <th>State</th>\n",
       "      <th>City</th>\n",
       "      <th>Pincode</th>\n",
       "      <th>Type_of_Project</th>\n",
       "      <th>No_of_Windows</th>\n",
       "      <th>...</th>\n",
       "      <th>Second-Action-Call-Status.1</th>\n",
       "      <th>Remarks</th>\n",
       "      <th>Price_Per_Sft</th>\n",
       "      <th>Benefits</th>\n",
       "      <th>Aesthetics</th>\n",
       "      <th>Reduce_Street_Noise</th>\n",
       "      <th>Low_Maintenance</th>\n",
       "      <th>Monsoon_Proof</th>\n",
       "      <th>Better_Lighting</th>\n",
       "      <th>Reduce_AC_Energy_Cost</th>\n",
       "    </tr>\n",
       "  </thead>\n",
       "  <tbody>\n",
       "    <tr>\n",
       "      <th>0</th>\n",
       "      <td>April'16</td>\n",
       "      <td>2-Apr-16</td>\n",
       "      <td>EC02041646800</td>\n",
       "      <td>Dealer</td>\n",
       "      <td>Won</td>\n",
       "      <td>TAMILNADU</td>\n",
       "      <td>CHENNAI</td>\n",
       "      <td>600008</td>\n",
       "      <td>Renovation</td>\n",
       "      <td>6 to 10</td>\n",
       "      <td>...</td>\n",
       "      <td>NaN</td>\n",
       "      <td>NaN</td>\n",
       "      <td>1105</td>\n",
       "      <td>Aesthetics &amp; Street Noise</td>\n",
       "      <td>1.0</td>\n",
       "      <td>1.0</td>\n",
       "      <td>0.0</td>\n",
       "      <td>0.0</td>\n",
       "      <td>0.0</td>\n",
       "      <td>0.0</td>\n",
       "    </tr>\n",
       "    <tr>\n",
       "      <th>1</th>\n",
       "      <td>April'16</td>\n",
       "      <td>8-Apr-16</td>\n",
       "      <td>EC08041647157</td>\n",
       "      <td>Dealer</td>\n",
       "      <td>Lost</td>\n",
       "      <td>TAMILNADU</td>\n",
       "      <td>CHENNAI</td>\n",
       "      <td>600042</td>\n",
       "      <td>New Construction</td>\n",
       "      <td>6 to 10</td>\n",
       "      <td>...</td>\n",
       "      <td>NaN</td>\n",
       "      <td>Price Issue</td>\n",
       "      <td>985</td>\n",
       "      <td>NaN</td>\n",
       "      <td>NaN</td>\n",
       "      <td>NaN</td>\n",
       "      <td>NaN</td>\n",
       "      <td>NaN</td>\n",
       "      <td>NaN</td>\n",
       "      <td>NaN</td>\n",
       "    </tr>\n",
       "    <tr>\n",
       "      <th>2</th>\n",
       "      <td>April'16</td>\n",
       "      <td>8-Apr-16</td>\n",
       "      <td>EC08041647130</td>\n",
       "      <td>Dealer</td>\n",
       "      <td>Lost</td>\n",
       "      <td>TAMILNADU</td>\n",
       "      <td>CHENNAI</td>\n",
       "      <td>600015</td>\n",
       "      <td>New Construction</td>\n",
       "      <td>1 to 5</td>\n",
       "      <td>...</td>\n",
       "      <td>NaN</td>\n",
       "      <td>Delivery Issue</td>\n",
       "      <td>918</td>\n",
       "      <td>NaN</td>\n",
       "      <td>NaN</td>\n",
       "      <td>NaN</td>\n",
       "      <td>NaN</td>\n",
       "      <td>NaN</td>\n",
       "      <td>NaN</td>\n",
       "      <td>NaN</td>\n",
       "    </tr>\n",
       "    <tr>\n",
       "      <th>3</th>\n",
       "      <td>April'16</td>\n",
       "      <td>9-Apr-16</td>\n",
       "      <td>EC09041647202</td>\n",
       "      <td>Direct</td>\n",
       "      <td>Lost</td>\n",
       "      <td>TAMILNADU</td>\n",
       "      <td>KANCHIPURAM</td>\n",
       "      <td>600075</td>\n",
       "      <td>New Construction</td>\n",
       "      <td>21 to 40</td>\n",
       "      <td>...</td>\n",
       "      <td>NaN</td>\n",
       "      <td>Price Issue</td>\n",
       "      <td>919</td>\n",
       "      <td>NaN</td>\n",
       "      <td>NaN</td>\n",
       "      <td>NaN</td>\n",
       "      <td>NaN</td>\n",
       "      <td>NaN</td>\n",
       "      <td>NaN</td>\n",
       "      <td>NaN</td>\n",
       "    </tr>\n",
       "    <tr>\n",
       "      <th>4</th>\n",
       "      <td>April'16</td>\n",
       "      <td>11-Apr-16</td>\n",
       "      <td>EC11041647360</td>\n",
       "      <td>Direct</td>\n",
       "      <td>Won</td>\n",
       "      <td>TAMILNADU</td>\n",
       "      <td>CHENNAI</td>\n",
       "      <td>600041</td>\n",
       "      <td>Renovation</td>\n",
       "      <td>6 to 10</td>\n",
       "      <td>...</td>\n",
       "      <td>NaN</td>\n",
       "      <td>NaN</td>\n",
       "      <td>1350</td>\n",
       "      <td>Reduce AC Energy Cost</td>\n",
       "      <td>0.0</td>\n",
       "      <td>0.0</td>\n",
       "      <td>0.0</td>\n",
       "      <td>0.0</td>\n",
       "      <td>0.0</td>\n",
       "      <td>1.0</td>\n",
       "    </tr>\n",
       "  </tbody>\n",
       "</table>\n",
       "<p>5 rows × 40 columns</p>\n",
       "</div>"
      ],
      "text/plain": [
       "      Month Enquiry_Date      Enquiry_Id Allocation_Status Status      State  \\\n",
       "0  April'16     2-Apr-16   EC02041646800            Dealer    Won  TAMILNADU   \n",
       "1  April'16     8-Apr-16   EC08041647157            Dealer   Lost  TAMILNADU   \n",
       "2  April'16     8-Apr-16   EC08041647130            Dealer   Lost  TAMILNADU   \n",
       "3  April'16     9-Apr-16   EC09041647202            Direct   Lost  TAMILNADU   \n",
       "4  April'16    11-Apr-16   EC11041647360            Direct    Won  TAMILNADU   \n",
       "\n",
       "          City  Pincode   Type_of_Project No_of_Windows  ...  \\\n",
       "0      CHENNAI   600008        Renovation       6 to 10  ...   \n",
       "1      CHENNAI   600042  New Construction       6 to 10  ...   \n",
       "2      CHENNAI   600015  New Construction        1 to 5  ...   \n",
       "3  KANCHIPURAM   600075  New Construction      21 to 40  ...   \n",
       "4      CHENNAI   600041        Renovation       6 to 10  ...   \n",
       "\n",
       "  Second-Action-Call-Status.1         Remarks Price_Per_Sft  \\\n",
       "0                         NaN             NaN          1105   \n",
       "1                         NaN     Price Issue           985   \n",
       "2                         NaN  Delivery Issue           918   \n",
       "3                         NaN     Price Issue           919   \n",
       "4                         NaN             NaN          1350   \n",
       "\n",
       "                    Benefits Aesthetics Reduce_Street_Noise Low_Maintenance  \\\n",
       "0  Aesthetics & Street Noise        1.0                 1.0             0.0   \n",
       "1                        NaN        NaN                 NaN             NaN   \n",
       "2                        NaN        NaN                 NaN             NaN   \n",
       "3                        NaN        NaN                 NaN             NaN   \n",
       "4      Reduce AC Energy Cost        0.0                 0.0             0.0   \n",
       "\n",
       "  Monsoon_Proof Better_Lighting Reduce_AC_Energy_Cost  \n",
       "0           0.0             0.0                   0.0  \n",
       "1           NaN             NaN                   NaN  \n",
       "2           NaN             NaN                   NaN  \n",
       "3           NaN             NaN                   NaN  \n",
       "4           0.0             0.0                   1.0  \n",
       "\n",
       "[5 rows x 40 columns]"
      ]
     },
     "execution_count": 100,
     "metadata": {},
     "output_type": "execute_result"
    }
   ],
   "source": [
    "data.head()"
   ]
  },
  {
   "cell_type": "code",
   "execution_count": 101,
   "metadata": {},
   "outputs": [
    {
     "data": {
      "text/html": [
       "<div>\n",
       "<style scoped>\n",
       "    .dataframe tbody tr th:only-of-type {\n",
       "        vertical-align: middle;\n",
       "    }\n",
       "\n",
       "    .dataframe tbody tr th {\n",
       "        vertical-align: top;\n",
       "    }\n",
       "\n",
       "    .dataframe thead th {\n",
       "        text-align: right;\n",
       "    }\n",
       "</style>\n",
       "<table border=\"1\" class=\"dataframe\">\n",
       "  <thead>\n",
       "    <tr style=\"text-align: right;\">\n",
       "      <th></th>\n",
       "      <th>Month</th>\n",
       "      <th>Enquiry_Date</th>\n",
       "      <th>Enquiry_Id</th>\n",
       "      <th>Allocation_Status</th>\n",
       "      <th>Status</th>\n",
       "      <th>State</th>\n",
       "      <th>City</th>\n",
       "      <th>Pincode</th>\n",
       "      <th>Type_of_Project</th>\n",
       "      <th>No_of_Windows</th>\n",
       "      <th>...</th>\n",
       "      <th>Second-Action-Call-Status.1</th>\n",
       "      <th>Remarks</th>\n",
       "      <th>Price_Per_Sft</th>\n",
       "      <th>Benefits</th>\n",
       "      <th>Aesthetics</th>\n",
       "      <th>Reduce_Street_Noise</th>\n",
       "      <th>Low_Maintenance</th>\n",
       "      <th>Monsoon_Proof</th>\n",
       "      <th>Better_Lighting</th>\n",
       "      <th>Reduce_AC_Energy_Cost</th>\n",
       "    </tr>\n",
       "  </thead>\n",
       "  <tbody>\n",
       "    <tr>\n",
       "      <th>224</th>\n",
       "      <td>Jan'17</td>\n",
       "      <td>21-Jan-17</td>\n",
       "      <td>EC21011770512</td>\n",
       "      <td>Dealer</td>\n",
       "      <td>Lost</td>\n",
       "      <td>TAMILNADU</td>\n",
       "      <td>CHENNAI</td>\n",
       "      <td>600014</td>\n",
       "      <td>Renovation</td>\n",
       "      <td>11 to 20</td>\n",
       "      <td>...</td>\n",
       "      <td>NaN</td>\n",
       "      <td>Price Issue</td>\n",
       "      <td>929</td>\n",
       "      <td>NaN</td>\n",
       "      <td>NaN</td>\n",
       "      <td>NaN</td>\n",
       "      <td>NaN</td>\n",
       "      <td>NaN</td>\n",
       "      <td>NaN</td>\n",
       "      <td>NaN</td>\n",
       "    </tr>\n",
       "    <tr>\n",
       "      <th>225</th>\n",
       "      <td>Jan'17</td>\n",
       "      <td>23-Jan-17</td>\n",
       "      <td>EC24011770882</td>\n",
       "      <td>Direct</td>\n",
       "      <td>Won</td>\n",
       "      <td>TAMILNADU</td>\n",
       "      <td>CHENNAI</td>\n",
       "      <td>600015</td>\n",
       "      <td>Renovation</td>\n",
       "      <td>1 to 5</td>\n",
       "      <td>...</td>\n",
       "      <td>NaN</td>\n",
       "      <td>NaN</td>\n",
       "      <td>945</td>\n",
       "      <td>Low Maintenance</td>\n",
       "      <td>0.0</td>\n",
       "      <td>0.0</td>\n",
       "      <td>1.0</td>\n",
       "      <td>0.0</td>\n",
       "      <td>0.0</td>\n",
       "      <td>0.0</td>\n",
       "    </tr>\n",
       "    <tr>\n",
       "      <th>226</th>\n",
       "      <td>Jan'17</td>\n",
       "      <td>26-Jan-17</td>\n",
       "      <td>EC26121667587</td>\n",
       "      <td>Direct</td>\n",
       "      <td>Lost</td>\n",
       "      <td>TAMILNADU</td>\n",
       "      <td>CHENNAI</td>\n",
       "      <td>600119</td>\n",
       "      <td>Renovation</td>\n",
       "      <td>1 to 5</td>\n",
       "      <td>...</td>\n",
       "      <td>NaN</td>\n",
       "      <td>No Requirment</td>\n",
       "      <td>1044</td>\n",
       "      <td>NaN</td>\n",
       "      <td>NaN</td>\n",
       "      <td>NaN</td>\n",
       "      <td>NaN</td>\n",
       "      <td>NaN</td>\n",
       "      <td>NaN</td>\n",
       "      <td>NaN</td>\n",
       "    </tr>\n",
       "    <tr>\n",
       "      <th>227</th>\n",
       "      <td>Jan'17</td>\n",
       "      <td>27-Jan-17</td>\n",
       "      <td>EC27011771169</td>\n",
       "      <td>Dealer</td>\n",
       "      <td>Lost</td>\n",
       "      <td>TAMILNADU</td>\n",
       "      <td>CHENNAI</td>\n",
       "      <td>600082</td>\n",
       "      <td>Renovation</td>\n",
       "      <td>1 to 5</td>\n",
       "      <td>...</td>\n",
       "      <td>NaN</td>\n",
       "      <td>Design Infeasibility</td>\n",
       "      <td>849</td>\n",
       "      <td>NaN</td>\n",
       "      <td>NaN</td>\n",
       "      <td>NaN</td>\n",
       "      <td>NaN</td>\n",
       "      <td>NaN</td>\n",
       "      <td>NaN</td>\n",
       "      <td>NaN</td>\n",
       "    </tr>\n",
       "    <tr>\n",
       "      <th>228</th>\n",
       "      <td>Jan'17</td>\n",
       "      <td>27-Jan-17</td>\n",
       "      <td>EC27011771160</td>\n",
       "      <td>Direct</td>\n",
       "      <td>Lost</td>\n",
       "      <td>TAMILNADU</td>\n",
       "      <td>KANCHIPURAM</td>\n",
       "      <td>600089</td>\n",
       "      <td>New Construction</td>\n",
       "      <td>1 to 5</td>\n",
       "      <td>...</td>\n",
       "      <td>NaN</td>\n",
       "      <td>Price Issue</td>\n",
       "      <td>946</td>\n",
       "      <td>NaN</td>\n",
       "      <td>NaN</td>\n",
       "      <td>NaN</td>\n",
       "      <td>NaN</td>\n",
       "      <td>NaN</td>\n",
       "      <td>NaN</td>\n",
       "      <td>NaN</td>\n",
       "    </tr>\n",
       "  </tbody>\n",
       "</table>\n",
       "<p>5 rows × 40 columns</p>\n",
       "</div>"
      ],
      "text/plain": [
       "      Month Enquiry_Date     Enquiry_Id Allocation_Status Status      State  \\\n",
       "224  Jan'17    21-Jan-17  EC21011770512            Dealer   Lost  TAMILNADU   \n",
       "225  Jan'17    23-Jan-17  EC24011770882            Direct    Won  TAMILNADU   \n",
       "226  Jan'17    26-Jan-17  EC26121667587            Direct   Lost  TAMILNADU   \n",
       "227  Jan'17    27-Jan-17  EC27011771169            Dealer   Lost  TAMILNADU   \n",
       "228  Jan'17    27-Jan-17  EC27011771160            Direct   Lost  TAMILNADU   \n",
       "\n",
       "            City  Pincode   Type_of_Project No_of_Windows  ...  \\\n",
       "224      CHENNAI   600014        Renovation      11 to 20  ...   \n",
       "225      CHENNAI   600015        Renovation        1 to 5  ...   \n",
       "226      CHENNAI   600119        Renovation        1 to 5  ...   \n",
       "227      CHENNAI   600082        Renovation        1 to 5  ...   \n",
       "228  KANCHIPURAM   600089  New Construction        1 to 5  ...   \n",
       "\n",
       "    Second-Action-Call-Status.1               Remarks Price_Per_Sft  \\\n",
       "224                         NaN           Price Issue           929   \n",
       "225                         NaN                   NaN           945   \n",
       "226                         NaN         No Requirment          1044   \n",
       "227                         NaN  Design Infeasibility           849   \n",
       "228                         NaN           Price Issue           946   \n",
       "\n",
       "            Benefits Aesthetics Reduce_Street_Noise Low_Maintenance  \\\n",
       "224              NaN        NaN                 NaN             NaN   \n",
       "225  Low Maintenance        0.0                 0.0             1.0   \n",
       "226              NaN        NaN                 NaN             NaN   \n",
       "227              NaN        NaN                 NaN             NaN   \n",
       "228              NaN        NaN                 NaN             NaN   \n",
       "\n",
       "    Monsoon_Proof Better_Lighting Reduce_AC_Energy_Cost  \n",
       "224           NaN             NaN                   NaN  \n",
       "225           0.0             0.0                   0.0  \n",
       "226           NaN             NaN                   NaN  \n",
       "227           NaN             NaN                   NaN  \n",
       "228           NaN             NaN                   NaN  \n",
       "\n",
       "[5 rows x 40 columns]"
      ]
     },
     "execution_count": 101,
     "metadata": {},
     "output_type": "execute_result"
    }
   ],
   "source": [
    "data.tail(5)"
   ]
  },
  {
   "cell_type": "code",
   "execution_count": 102,
   "metadata": {
    "scrolled": true
   },
   "outputs": [
    {
     "name": "stdout",
     "output_type": "stream",
     "text": [
      "<class 'pandas.core.frame.DataFrame'>\n",
      "RangeIndex: 229 entries, 0 to 228\n",
      "Data columns (total 40 columns):\n",
      "Month                                      229 non-null object\n",
      "Enquiry_Date                               229 non-null object\n",
      "Enquiry_Id                                 229 non-null object\n",
      "Allocation_Status                          229 non-null object\n",
      "Status                                     229 non-null object\n",
      "State                                      229 non-null object\n",
      "City                                       229 non-null object\n",
      "Pincode                                    229 non-null int64\n",
      "Type_of_Project                            229 non-null object\n",
      "No_of_Windows                              229 non-null object\n",
      "Source                                     229 non-null object\n",
      "Zone                                       229 non-null object\n",
      "Dealer_Name                                229 non-null object\n",
      "First_Action-Call_made                     229 non-null object\n",
      "Date_DD/MM/YY                              229 non-null object\n",
      "First-Action-Call-Status                   229 non-null object\n",
      "Date of Appointment (DD/MM/YY)             192 non-null object\n",
      "Second Action-Customer Meeting             192 non-null object\n",
      "Date-DD/MM/YY.1                            192 non-null object\n",
      "Second-Action-Call-Status                  191 non-null object\n",
      "Third-Action-Quote-Given                   189 non-null object\n",
      "Date-DD/MM/YY.2                            188 non-null object\n",
      "Q-Val.(Rs.Lac)                             183 non-null float64\n",
      "Quote-QTY                                  183 non-null object\n",
      "Order-(Recd\\Lost)                          229 non-null object\n",
      "Date-DD/MM/YY.3                            48 non-null object\n",
      "Order-Val.(Rs.Lac)                         48 non-null float64\n",
      "Order_QTY                                  48 non-null float64\n",
      "Quote_ID(as_per_match_to_CCC_Records)      116 non-null object\n",
      "Remarks-Brand-and-value-if-lost-to-UPVC    123 non-null object\n",
      "Second-Action-Call-Status.1                0 non-null float64\n",
      "Remarks                                    171 non-null object\n",
      "Price_Per_Sft                              229 non-null int64\n",
      "Benefits                                   53 non-null object\n",
      "Aesthetics                                 37 non-null float64\n",
      "Reduce_Street_Noise                        37 non-null float64\n",
      "Low_Maintenance                            37 non-null float64\n",
      "Monsoon_Proof                              37 non-null float64\n",
      "Better_Lighting                            37 non-null float64\n",
      "Reduce_AC_Energy_Cost                      37 non-null float64\n",
      "dtypes: float64(10), int64(2), object(28)\n",
      "memory usage: 71.6+ KB\n"
     ]
    }
   ],
   "source": [
    "data.info()"
   ]
  },
  {
   "cell_type": "markdown",
   "metadata": {},
   "source": [
    "### Plot 1 - Month wise total enquiries"
   ]
  },
  {
   "cell_type": "code",
   "execution_count": 103,
   "metadata": {},
   "outputs": [
    {
     "data": {
      "text/html": [
       "<div>\n",
       "<style scoped>\n",
       "    .dataframe tbody tr th:only-of-type {\n",
       "        vertical-align: middle;\n",
       "    }\n",
       "\n",
       "    .dataframe tbody tr th {\n",
       "        vertical-align: top;\n",
       "    }\n",
       "\n",
       "    .dataframe thead th {\n",
       "        text-align: right;\n",
       "    }\n",
       "</style>\n",
       "<table border=\"1\" class=\"dataframe\">\n",
       "  <thead>\n",
       "    <tr style=\"text-align: right;\">\n",
       "      <th></th>\n",
       "      <th>Month</th>\n",
       "      <th>Enquiry_Date</th>\n",
       "      <th>Enquiry_Id</th>\n",
       "      <th>Allocation_Status</th>\n",
       "      <th>Status</th>\n",
       "      <th>State</th>\n",
       "      <th>City</th>\n",
       "      <th>Pincode</th>\n",
       "      <th>Type_of_Project</th>\n",
       "      <th>No_of_Windows</th>\n",
       "      <th>...</th>\n",
       "      <th>Benefits</th>\n",
       "      <th>Aesthetics</th>\n",
       "      <th>Reduce_Street_Noise</th>\n",
       "      <th>Low_Maintenance</th>\n",
       "      <th>Monsoon_Proof</th>\n",
       "      <th>Better_Lighting</th>\n",
       "      <th>Reduce_AC_Energy_Cost</th>\n",
       "      <th>Year</th>\n",
       "      <th>month</th>\n",
       "      <th>year</th>\n",
       "    </tr>\n",
       "  </thead>\n",
       "  <tbody>\n",
       "    <tr>\n",
       "      <th>0</th>\n",
       "      <td>April'16</td>\n",
       "      <td>2-Apr-16</td>\n",
       "      <td>EC02041646800</td>\n",
       "      <td>Dealer</td>\n",
       "      <td>Won</td>\n",
       "      <td>TAMILNADU</td>\n",
       "      <td>CHENNAI</td>\n",
       "      <td>600008</td>\n",
       "      <td>Renovation</td>\n",
       "      <td>6 to 10</td>\n",
       "      <td>...</td>\n",
       "      <td>Aesthetics &amp; Street Noise</td>\n",
       "      <td>1.0</td>\n",
       "      <td>1.0</td>\n",
       "      <td>0.0</td>\n",
       "      <td>0.0</td>\n",
       "      <td>0.0</td>\n",
       "      <td>0.0</td>\n",
       "      <td>2016-04-02</td>\n",
       "      <td>Apr</td>\n",
       "      <td>2016</td>\n",
       "    </tr>\n",
       "    <tr>\n",
       "      <th>1</th>\n",
       "      <td>April'16</td>\n",
       "      <td>8-Apr-16</td>\n",
       "      <td>EC08041647157</td>\n",
       "      <td>Dealer</td>\n",
       "      <td>Lost</td>\n",
       "      <td>TAMILNADU</td>\n",
       "      <td>CHENNAI</td>\n",
       "      <td>600042</td>\n",
       "      <td>New Construction</td>\n",
       "      <td>6 to 10</td>\n",
       "      <td>...</td>\n",
       "      <td>NaN</td>\n",
       "      <td>NaN</td>\n",
       "      <td>NaN</td>\n",
       "      <td>NaN</td>\n",
       "      <td>NaN</td>\n",
       "      <td>NaN</td>\n",
       "      <td>NaN</td>\n",
       "      <td>2016-04-08</td>\n",
       "      <td>Apr</td>\n",
       "      <td>2016</td>\n",
       "    </tr>\n",
       "    <tr>\n",
       "      <th>2</th>\n",
       "      <td>April'16</td>\n",
       "      <td>8-Apr-16</td>\n",
       "      <td>EC08041647130</td>\n",
       "      <td>Dealer</td>\n",
       "      <td>Lost</td>\n",
       "      <td>TAMILNADU</td>\n",
       "      <td>CHENNAI</td>\n",
       "      <td>600015</td>\n",
       "      <td>New Construction</td>\n",
       "      <td>1 to 5</td>\n",
       "      <td>...</td>\n",
       "      <td>NaN</td>\n",
       "      <td>NaN</td>\n",
       "      <td>NaN</td>\n",
       "      <td>NaN</td>\n",
       "      <td>NaN</td>\n",
       "      <td>NaN</td>\n",
       "      <td>NaN</td>\n",
       "      <td>2016-04-08</td>\n",
       "      <td>Apr</td>\n",
       "      <td>2016</td>\n",
       "    </tr>\n",
       "    <tr>\n",
       "      <th>3</th>\n",
       "      <td>April'16</td>\n",
       "      <td>9-Apr-16</td>\n",
       "      <td>EC09041647202</td>\n",
       "      <td>Direct</td>\n",
       "      <td>Lost</td>\n",
       "      <td>TAMILNADU</td>\n",
       "      <td>KANCHIPURAM</td>\n",
       "      <td>600075</td>\n",
       "      <td>New Construction</td>\n",
       "      <td>21 to 40</td>\n",
       "      <td>...</td>\n",
       "      <td>NaN</td>\n",
       "      <td>NaN</td>\n",
       "      <td>NaN</td>\n",
       "      <td>NaN</td>\n",
       "      <td>NaN</td>\n",
       "      <td>NaN</td>\n",
       "      <td>NaN</td>\n",
       "      <td>2016-04-09</td>\n",
       "      <td>Apr</td>\n",
       "      <td>2016</td>\n",
       "    </tr>\n",
       "    <tr>\n",
       "      <th>4</th>\n",
       "      <td>April'16</td>\n",
       "      <td>11-Apr-16</td>\n",
       "      <td>EC11041647360</td>\n",
       "      <td>Direct</td>\n",
       "      <td>Won</td>\n",
       "      <td>TAMILNADU</td>\n",
       "      <td>CHENNAI</td>\n",
       "      <td>600041</td>\n",
       "      <td>Renovation</td>\n",
       "      <td>6 to 10</td>\n",
       "      <td>...</td>\n",
       "      <td>Reduce AC Energy Cost</td>\n",
       "      <td>0.0</td>\n",
       "      <td>0.0</td>\n",
       "      <td>0.0</td>\n",
       "      <td>0.0</td>\n",
       "      <td>0.0</td>\n",
       "      <td>1.0</td>\n",
       "      <td>2016-04-11</td>\n",
       "      <td>Apr</td>\n",
       "      <td>2016</td>\n",
       "    </tr>\n",
       "  </tbody>\n",
       "</table>\n",
       "<p>5 rows × 43 columns</p>\n",
       "</div>"
      ],
      "text/plain": [
       "      Month Enquiry_Date      Enquiry_Id Allocation_Status Status      State  \\\n",
       "0  April'16     2-Apr-16   EC02041646800            Dealer    Won  TAMILNADU   \n",
       "1  April'16     8-Apr-16   EC08041647157            Dealer   Lost  TAMILNADU   \n",
       "2  April'16     8-Apr-16   EC08041647130            Dealer   Lost  TAMILNADU   \n",
       "3  April'16     9-Apr-16   EC09041647202            Direct   Lost  TAMILNADU   \n",
       "4  April'16    11-Apr-16   EC11041647360            Direct    Won  TAMILNADU   \n",
       "\n",
       "          City  Pincode   Type_of_Project No_of_Windows  ...  \\\n",
       "0      CHENNAI   600008        Renovation       6 to 10  ...   \n",
       "1      CHENNAI   600042  New Construction       6 to 10  ...   \n",
       "2      CHENNAI   600015  New Construction        1 to 5  ...   \n",
       "3  KANCHIPURAM   600075  New Construction      21 to 40  ...   \n",
       "4      CHENNAI   600041        Renovation       6 to 10  ...   \n",
       "\n",
       "                    Benefits Aesthetics Reduce_Street_Noise Low_Maintenance  \\\n",
       "0  Aesthetics & Street Noise        1.0                 1.0             0.0   \n",
       "1                        NaN        NaN                 NaN             NaN   \n",
       "2                        NaN        NaN                 NaN             NaN   \n",
       "3                        NaN        NaN                 NaN             NaN   \n",
       "4      Reduce AC Energy Cost        0.0                 0.0             0.0   \n",
       "\n",
       "  Monsoon_Proof Better_Lighting Reduce_AC_Energy_Cost       Year month  year  \n",
       "0           0.0             0.0                   0.0 2016-04-02   Apr  2016  \n",
       "1           NaN             NaN                   NaN 2016-04-08   Apr  2016  \n",
       "2           NaN             NaN                   NaN 2016-04-08   Apr  2016  \n",
       "3           NaN             NaN                   NaN 2016-04-09   Apr  2016  \n",
       "4           0.0             0.0                   1.0 2016-04-11   Apr  2016  \n",
       "\n",
       "[5 rows x 43 columns]"
      ]
     },
     "execution_count": 103,
     "metadata": {},
     "output_type": "execute_result"
    }
   ],
   "source": [
    "data['Year']=pd.to_datetime(data['Enquiry_Date'], infer_datetime_format=True)\n",
    "#data.head()\n",
    "\n",
    "df=data\n",
    "\n",
    "df['month'] = [d.strftime('%b') for d in df.Year]\n",
    "df['year'] =[d.strftime('%Y') for d in df.Year]\n",
    "\n",
    "df.head()"
   ]
  },
  {
   "cell_type": "code",
   "execution_count": 104,
   "metadata": {},
   "outputs": [
    {
     "data": {
      "text/plain": [
       "Text(0.5, 0, 'Enquiries in the months')"
      ]
     },
     "execution_count": 104,
     "metadata": {},
     "output_type": "execute_result"
    },
    {
     "data": {
      "image/png": "[encoded data removed]",
      "text/plain": [
       "<Figure size 432x288 with 1 Axes>"
      ]
     },
     "metadata": {
      "needs_background": "light"
     },
     "output_type": "display_data"
    }
   ],
   "source": [
    "data.Month.value_counts().plot(kind='bar')\n",
    "plt.title('Enquiry Dates over the year 2016-2017')\n",
    "plt.ylabel('Counts')\n",
    "plt.xlabel('Enquiries in the months')"
   ]
  },
  {
   "cell_type": "markdown",
   "metadata": {},
   "source": [
    "Observations:\n",
    "1. Maximum enquiries has happened in the month of July 2016"
   ]
  },
  {
   "cell_type": "markdown",
   "metadata": {},
   "source": [
    "### Plot 2 - Allocation Status "
   ]
  },
  {
   "cell_type": "code",
   "execution_count": 105,
   "metadata": {},
   "outputs": [
    {
     "data": {
      "text/plain": [
       "Text(0.5, 1.0, 'Business type')"
      ]
     },
     "execution_count": 105,
     "metadata": {},
     "output_type": "execute_result"
    },
    {
     "data": {
      "image/png": "[encoded data removed]",
      "text/plain": [
       "<Figure size 432x288 with 1 Axes>"
      ]
     },
     "metadata": {},
     "output_type": "display_data"
    }
   ],
   "source": [
    "data['Allocation_Status'].value_counts().plot(kind='pie')\n",
    "\n",
    "plt.title('Business type')"
   ]
  },
  {
   "cell_type": "raw",
   "metadata": {},
   "source": [
    "Observations:\n",
    "1. Maximum enquiries were handled by Dealers, than Direct business."
   ]
  },
  {
   "cell_type": "markdown",
   "metadata": {},
   "source": [
    "### Plot 3: Enquiry Status"
   ]
  },
  {
   "cell_type": "code",
   "execution_count": 106,
   "metadata": {},
   "outputs": [
    {
     "data": {
      "text/plain": [
       "Text(0.5, 0, 'Lost vs Won')"
      ]
     },
     "execution_count": 106,
     "metadata": {},
     "output_type": "execute_result"
    },
    {
     "data": {
      "image/png": "[encoded data removed]",
      "text/plain": [
       "<Figure size 432x288 with 1 Axes>"
      ]
     },
     "metadata": {
      "needs_background": "light"
     },
     "output_type": "display_data"
    }
   ],
   "source": [
    "data.Status.value_counts().plot(kind='bar')\n",
    "plt.title('Enquiries Status')\n",
    "plt.ylabel('Counts')\n",
    "plt.xlabel('Lost vs Won')"
   ]
  },
  {
   "cell_type": "code",
   "execution_count": 107,
   "metadata": {},
   "outputs": [
    {
     "data": {
      "text/plain": [
       "Lost    176\n",
       "Won      53\n",
       "Name: Status, dtype: int64"
      ]
     },
     "execution_count": 107,
     "metadata": {},
     "output_type": "execute_result"
    }
   ],
   "source": [
    "data.Status.value_counts()"
   ]
  },
  {
   "cell_type": "code",
   "execution_count": 108,
   "metadata": {},
   "outputs": [
    {
     "data": {
      "text/plain": [
       "229"
      ]
     },
     "execution_count": 108,
     "metadata": {},
     "output_type": "execute_result"
    }
   ],
   "source": [
    "176+53"
   ]
  },
  {
   "cell_type": "raw",
   "metadata": {},
   "source": [
    "Inference:\n",
    "1. Only few of the enquiries are materialised.\n",
    "Note:\n",
    "The dataset is imbalanced. For building machine learning algorithms, Developer should balance the dataset by oversampling / undersampling / SMOTE / ROSE"
   ]
  },
  {
   "cell_type": "markdown",
   "metadata": {},
   "source": [
    "### Plot 4: Cities dealt by PVC"
   ]
  },
  {
   "cell_type": "code",
   "execution_count": 109,
   "metadata": {},
   "outputs": [
    {
     "data": {
      "text/plain": [
       "Text(0.5, 0, 'City')"
      ]
     },
     "execution_count": 109,
     "metadata": {},
     "output_type": "execute_result"
    },
    {
     "data": {
      "image/png": "[encoded data removed]",
      "text/plain": [
       "<Figure size 432x288 with 1 Axes>"
      ]
     },
     "metadata": {
      "needs_background": "light"
     },
     "output_type": "display_data"
    }
   ],
   "source": [
    "data.City.value_counts().plot(kind='bar')\n",
    "plt.title('Cities dealt by PVC')\n",
    "plt.ylabel('Counts')\n",
    "plt.xlabel('City')"
   ]
  },
  {
   "cell_type": "raw",
   "metadata": {},
   "source": [
    "Observation:\n",
    "1. PVC manufacture has dealers in Chennai,Kanchipuram,Vellore,Krishnagiri,Villupuram,Pondicherry,Cuddalore.\n",
    "2. Among all Chennai recieved maximum enquiries."
   ]
  },
  {
   "cell_type": "markdown",
   "metadata": {},
   "source": [
    "### Plot 5: City wise count of pincodes "
   ]
  },
  {
   "cell_type": "code",
   "execution_count": 110,
   "metadata": {},
   "outputs": [
    {
     "data": {
      "text/plain": [
       "Text(0.5, 0, 'City')"
      ]
     },
     "execution_count": 110,
     "metadata": {},
     "output_type": "execute_result"
    },
    {
     "data": {
      "image/png": "[encoded data removed]",
      "text/plain": [
       "<Figure size 432x288 with 1 Axes>"
      ]
     },
     "metadata": {
      "needs_background": "light"
     },
     "output_type": "display_data"
    }
   ],
   "source": [
    "data.Pincode.groupby(data.City).sum().sort_values(ascending=False).plot(kind='bar')\n",
    "plt.title('Count of pincodes for each city')\n",
    "plt.ylabel('Count of Pincodes')\n",
    "plt.xlabel('City')"
   ]
  },
  {
   "cell_type": "raw",
   "metadata": {},
   "source": [
    "Observation:\n",
    "1. Chennai has maximum number of pincodes."
   ]
  },
  {
   "cell_type": "markdown",
   "metadata": {},
   "source": [
    "### Plot 6: Type of Projects"
   ]
  },
  {
   "cell_type": "code",
   "execution_count": 111,
   "metadata": {},
   "outputs": [
    {
     "data": {
      "text/plain": [
       "Text(0.5, 1.0, 'Type of projects')"
      ]
     },
     "execution_count": 111,
     "metadata": {},
     "output_type": "execute_result"
    },
    {
     "data": {
      "image/png": "[encoded data removed]",
      "text/plain": [
       "<Figure size 432x288 with 1 Axes>"
      ]
     },
     "metadata": {},
     "output_type": "display_data"
    }
   ],
   "source": [
    "data['Type_of_Project'].value_counts().plot(kind='pie')\n",
    "plt.title('Type of projects')\n"
   ]
  },
  {
   "cell_type": "raw",
   "metadata": {},
   "source": [
    "Observation:\n",
    "1. PVC manufacturer is handling two kinds of projects.One is Renovation and the other is New Construction type.\n",
    "2. Maximum number of enquiries are happened for Renovation."
   ]
  },
  {
   "cell_type": "markdown",
   "metadata": {},
   "source": [
    "### Plot 7: Source of Enquiry"
   ]
  },
  {
   "cell_type": "code",
   "execution_count": 112,
   "metadata": {},
   "outputs": [
    {
     "data": {
      "text/plain": [
       "Text(0.5, 0, 'Source of enquiry')"
      ]
     },
     "execution_count": 112,
     "metadata": {},
     "output_type": "execute_result"
    },
    {
     "data": {
      "image/png": "[encoded data removed]",
      "text/plain": [
       "<Figure size 432x288 with 1 Axes>"
      ]
     },
     "metadata": {
      "needs_background": "light"
     },
     "output_type": "display_data"
    }
   ],
   "source": [
    "data['Source'].value_counts().plot(kind='bar')\n",
    "plt.title('Source of enquiry')\n",
    "plt.ylabel('Count of enquiries')\n",
    "plt.xlabel('Source of enquiry')"
   ]
  },
  {
   "cell_type": "raw",
   "metadata": {},
   "source": [
    "Observation:\n",
    "1. Internet,Friends,Just dial,Current user are four sources through which the manufacturer got the enquiries.\n",
    "2. Maximum enquiries are from the source 'internet'."
   ]
  },
  {
   "cell_type": "markdown",
   "metadata": {},
   "source": [
    "### Plot 8: Dealer wise count of enquiries"
   ]
  },
  {
   "cell_type": "code",
   "execution_count": 113,
   "metadata": {},
   "outputs": [
    {
     "data": {
      "text/plain": [
       "Text(0.5, 0, 'Dealers')"
      ]
     },
     "execution_count": 113,
     "metadata": {},
     "output_type": "execute_result"
    },
    {
     "data": {
      "image/png": "[encoded data removed]",
      "text/plain": [
       "<Figure size 432x288 with 1 Axes>"
      ]
     },
     "metadata": {
      "needs_background": "light"
     },
     "output_type": "display_data"
    }
   ],
   "source": [
    "data['Dealer_Name'].value_counts().plot(kind='bar')\n",
    "plt.ylabel('Count of enquiries')\n",
    "plt.xlabel('Dealers')"
   ]
  },
  {
   "cell_type": "raw",
   "metadata": {},
   "source": [
    "Observation:\n",
    "1. As per the plot, PVC manufaturer has 9 dealers. Here Pearlson and pearlson are the same dealer with change in case.  \n",
    "2. Direct has got maximum enquiries."
   ]
  },
  {
   "cell_type": "markdown",
   "metadata": {},
   "source": [
    "### Changing the dealer name 'pearlson'"
   ]
  },
  {
   "cell_type": "code",
   "execution_count": 129,
   "metadata": {},
   "outputs": [],
   "source": [
    "#type(data[data['Dealer_Name']=='pearlson'].Dealer_Name)\n",
    "data['Dealer_Name'].replace('pearlson','Pearlson',inplace=True)\n"
   ]
  },
  {
   "cell_type": "code",
   "execution_count": 130,
   "metadata": {
    "scrolled": true
   },
   "outputs": [
    {
     "data": {
      "text/plain": [
       "Direct        63\n",
       "Windoors      45\n",
       "Sunbird       36\n",
       "OXXO          20\n",
       "Winfratech    20\n",
       "Pearlson      16\n",
       "Rajtechnis    15\n",
       "ITP           14\n",
       "Name: Dealer_Name, dtype: int64"
      ]
     },
     "execution_count": 130,
     "metadata": {},
     "output_type": "execute_result"
    }
   ],
   "source": [
    "data['Dealer_Name'].value_counts()"
   ]
  },
  {
   "cell_type": "markdown",
   "metadata": {},
   "source": [
    "### Same dealer wise plot after editing 'pearlson'"
   ]
  },
  {
   "cell_type": "code",
   "execution_count": 26,
   "metadata": {},
   "outputs": [
    {
     "data": {
      "text/plain": [
       "Text(0.5, 0, 'Dealers')"
      ]
     },
     "execution_count": 26,
     "metadata": {},
     "output_type": "execute_result"
    },
    {
     "data": {
      "image/png": "[encoded data removed]",
      "text/plain": [
       "<Figure size 432x288 with 1 Axes>"
      ]
     },
     "metadata": {
      "needs_background": "light"
     },
     "output_type": "display_data"
    }
   ],
   "source": [
    "data['Dealer_Name'].value_counts().plot(kind='bar')\n",
    "plt.ylabel('Count of enquiries')\n",
    "plt.xlabel('Dealers')"
   ]
  },
  {
   "cell_type": "markdown",
   "metadata": {},
   "source": [
    "### Plot 9: Dealer | Zonal wise count of enquiries"
   ]
  },
  {
   "cell_type": "code",
   "execution_count": 27,
   "metadata": {},
   "outputs": [
    {
     "data": {
      "text/plain": [
       "Text(0.5, 1.0, 'Zone wise dealers')"
      ]
     },
     "execution_count": 27,
     "metadata": {},
     "output_type": "execute_result"
    },
    {
     "data": {
      "image/png": "[encoded data removed]",
      "text/plain": [
       "<Figure size 432x288 with 1 Axes>"
      ]
     },
     "metadata": {
      "needs_background": "light"
     },
     "output_type": "display_data"
    }
   ],
   "source": [
    "pd.crosstab(data['Dealer_Name'],data.Zone).plot(kind='bar')\n",
    "plt.ylabel('Count of enquiries')\n",
    "plt.xlabel('Dealers')\n",
    "plt.title('Zone wise dealers')"
   ]
  },
  {
   "cell_type": "markdown",
   "metadata": {},
   "source": [
    "Observation:\n",
    "All the dealeres are dealing with the enquiries and dealer Sunbird is dealing with Chehhai and Kanchipuram zones."
   ]
  },
  {
   "cell_type": "markdown",
   "metadata": {},
   "source": [
    "### Plot 10: First action call status"
   ]
  },
  {
   "cell_type": "code",
   "execution_count": 28,
   "metadata": {},
   "outputs": [
    {
     "data": {
      "text/plain": [
       "Text(0.5, 0, 'First discussion status')"
      ]
     },
     "execution_count": 28,
     "metadata": {},
     "output_type": "execute_result"
    },
    {
     "data": {
      "image/png": "[encoded data removed]",
      "text/plain": [
       "<Figure size 432x288 with 1 Axes>"
      ]
     },
     "metadata": {
      "needs_background": "light"
     },
     "output_type": "display_data"
    }
   ],
   "source": [
    "data['First-Action-Call-Status'].value_counts().plot(kind='bar')\n",
    "plt.title('Status after the first call')\n",
    "plt.ylabel('Count of enquiries')\n",
    "plt.xlabel('First discussion status')"
   ]
  },
  {
   "cell_type": "markdown",
   "metadata": {},
   "source": [
    "Observation:\n",
    "1. After the first enquiry call few of the enquiries are going for second discussion and others are not willing to go further  due to reasons like budget constraint,feasibility of the design, time frame constraint and some of them are just awareness calls."
   ]
  },
  {
   "cell_type": "markdown",
   "metadata": {},
   "source": [
    "### Plot 11: Second action call status"
   ]
  },
  {
   "cell_type": "code",
   "execution_count": 29,
   "metadata": {},
   "outputs": [
    {
     "data": {
      "text/plain": [
       "Text(0.5, 0, 'Second discussion status')"
      ]
     },
     "execution_count": 29,
     "metadata": {},
     "output_type": "execute_result"
    },
    {
     "data": {
      "image/png": "[encoded data removed]",
      "text/plain": [
       "<Figure size 432x288 with 1 Axes>"
      ]
     },
     "metadata": {
      "needs_background": "light"
     },
     "output_type": "display_data"
    }
   ],
   "source": [
    "data['Second-Action-Call-Status'].value_counts().plot(kind='bar')\n",
    "plt.title('Status after the Second call')\n",
    "plt.ylabel('Count of enquiries')\n",
    "plt.xlabel('Second discussion status')"
   ]
  },
  {
   "cell_type": "code",
   "execution_count": 30,
   "metadata": {},
   "outputs": [
    {
     "data": {
      "text/plain": [
       "Quote to Be Submitted       189\n",
       "Further Meeting Required      1\n",
       "Design not Feasible           1\n",
       "Name: Second-Action-Call-Status, dtype: int64"
      ]
     },
     "execution_count": 30,
     "metadata": {},
     "output_type": "execute_result"
    }
   ],
   "source": [
    "data['Second-Action-Call-Status'].value_counts()"
   ]
  },
  {
   "cell_type": "raw",
   "metadata": {},
   "source": [
    "Observation:\n",
    "1. After the discussion with the customers for the second time, quote has to be given to the interested ones(189 out of 191).\n",
    "one customer requested for further discussion."
   ]
  },
  {
   "cell_type": "markdown",
   "metadata": {},
   "source": [
    "### Plot 12: Third discussion status"
   ]
  },
  {
   "cell_type": "code",
   "execution_count": 31,
   "metadata": {},
   "outputs": [
    {
     "data": {
      "text/plain": [
       "Text(0.5, 1.0, 'Third discussion status')"
      ]
     },
     "execution_count": 31,
     "metadata": {},
     "output_type": "execute_result"
    },
    {
     "data": {
      "image/png": "[encoded data removed]",
      "text/plain": [
       "<Figure size 432x288 with 1 Axes>"
      ]
     },
     "metadata": {
      "needs_background": "light"
     },
     "output_type": "display_data"
    }
   ],
   "source": [
    "pd.crosstab(data['Third-Action-Quote-Given'].count(),data.Status).plot(kind='bar')\n",
    "plt.ylabel('Counts')\n",
    "plt.xlabel('Orders Recieved/Lost')\n",
    "plt.title('Third discussion status')\n"
   ]
  },
  {
   "cell_type": "code",
   "execution_count": 32,
   "metadata": {},
   "outputs": [
    {
     "data": {
      "text/html": [
       "<div>\n",
       "<style scoped>\n",
       "    .dataframe tbody tr th:only-of-type {\n",
       "        vertical-align: middle;\n",
       "    }\n",
       "\n",
       "    .dataframe tbody tr th {\n",
       "        vertical-align: top;\n",
       "    }\n",
       "\n",
       "    .dataframe thead th {\n",
       "        text-align: right;\n",
       "    }\n",
       "</style>\n",
       "<table border=\"1\" class=\"dataframe\">\n",
       "  <thead>\n",
       "    <tr style=\"text-align: right;\">\n",
       "      <th>Status</th>\n",
       "      <th>Lost</th>\n",
       "      <th>Won</th>\n",
       "    </tr>\n",
       "    <tr>\n",
       "      <th>row_0</th>\n",
       "      <th></th>\n",
       "      <th></th>\n",
       "    </tr>\n",
       "  </thead>\n",
       "  <tbody>\n",
       "    <tr>\n",
       "      <th>189</th>\n",
       "      <td>176</td>\n",
       "      <td>53</td>\n",
       "    </tr>\n",
       "  </tbody>\n",
       "</table>\n",
       "</div>"
      ],
      "text/plain": [
       "Status  Lost  Won\n",
       "row_0            \n",
       "189      176   53"
      ]
     },
     "execution_count": 32,
     "metadata": {},
     "output_type": "execute_result"
    }
   ],
   "source": [
    "pd.crosstab(data['Third-Action-Quote-Given'].count(),data.Status)"
   ]
  },
  {
   "cell_type": "raw",
   "metadata": {},
   "source": [
    "Observation:\n",
    "1. Out of 189 customers who has gone through third discussion, 53 converted to business."
   ]
  },
  {
   "cell_type": "markdown",
   "metadata": {},
   "source": [
    "### Plot 13: Reasons for non coversion rate"
   ]
  },
  {
   "cell_type": "code",
   "execution_count": 33,
   "metadata": {},
   "outputs": [
    {
     "data": {
      "image/png": "[encoded data removed]",
      "text/plain": [
       "<Figure size 432x288 with 1 Axes>"
      ]
     },
     "metadata": {
      "needs_background": "light"
     },
     "output_type": "display_data"
    }
   ],
   "source": [
    "pd.crosstab(data[data['Status']=='Lost'].Status.count(),data[' Order Recd\\Lost ']).plot(kind='bar') # order received or lost\n",
    "plt.title('Reasons for Nonconversion rate' )\n",
    "plt.ylabel('Counts')\n",
    "plt.xlabel('Nonconversion rate segments')\n",
    "fig_size = plt.rcParams[\"figure.figsize\"]\n",
    "fig_size[0] = 15\n",
    "fig_size[1] = 0\n",
    "plt.rcParams[\"figure.figsize\"] = fig_size"
   ]
  },
  {
   "cell_type": "code",
   "execution_count": 34,
   "metadata": {},
   "outputs": [
    {
     "data": {
      "text/plain": [
       "Lost to UPVC (Provide details)    87\n",
       "Order Received                    53\n",
       "Lost to Wooden                    30\n",
       "Product Issue-Design/Type         28\n",
       "Lost to Aluminum                  27\n",
       "Delivery Time Not Possible         4\n",
       "Name: Order-(Recd\\Lost), dtype: int64"
      ]
     },
     "execution_count": 34,
     "metadata": {},
     "output_type": "execute_result"
    }
   ],
   "source": [
    "data['Order-(Recd\\Lost)'].value_counts()"
   ]
  },
  {
   "cell_type": "code",
   "execution_count": 35,
   "metadata": {},
   "outputs": [
    {
     "data": {
      "text/plain": [
       "176"
      ]
     },
     "execution_count": 35,
     "metadata": {},
     "output_type": "execute_result"
    }
   ],
   "source": [
    "data[data['Status']=='Lost'].Status.count()"
   ]
  },
  {
   "cell_type": "markdown",
   "metadata": {},
   "source": [
    "Observation:\n",
    "Conversion rate is not achieved after the third discussion because of the following reasons\n",
    "- Delivery timenot possible\n",
    "- Aluminium\n",
    "- Wooden\n",
    "- Product issue"
   ]
  },
  {
   "cell_type": "code",
   "execution_count": 131,
   "metadata": {},
   "outputs": [
    {
     "data": {
      "text/plain": [
       "171"
      ]
     },
     "execution_count": 131,
     "metadata": {},
     "output_type": "execute_result"
    }
   ],
   "source": [
    "data.Remarks.value_counts().sum()"
   ]
  },
  {
   "cell_type": "raw",
   "metadata": {},
   "source": [
    "Observation:\n",
    "1. Maximum number of enquiries did not achieve convertion rates because of price issue(110 out of 171),\n",
    "budget constraint(26 out of 171) and design feasibility(23 out of 171)\n"
   ]
  },
  {
   "cell_type": "markdown",
   "metadata": {},
   "source": [
    "### Handling null values"
   ]
  },
  {
   "cell_type": "code",
   "execution_count": 37,
   "metadata": {},
   "outputs": [
    {
     "data": {
      "text/plain": [
       "Month                                        0\n",
       "Enquiry_Date                                 0\n",
       "Enquiry_Id                                   0\n",
       "Allocation_Status                            0\n",
       "Status                                       0\n",
       "State                                        0\n",
       "City                                         0\n",
       "Pincode                                      0\n",
       "Type_of_Project                              0\n",
       "No_of_Windows                                0\n",
       "Source                                       0\n",
       "Zone                                         0\n",
       "Dealer_Name                                  0\n",
       "First_Action-Call_made                       0\n",
       "Date_DD/MM/YY                                0\n",
       "First-Action-Call-Status                     0\n",
       "Date of Appointment (DD/MM/YY)              37\n",
       "Second Action-Customer Meeting              37\n",
       "Date-DD/MM/YY.1                             37\n",
       "Second-Action-Call-Status                   38\n",
       "Third-Action-Quote-Given                    40\n",
       "Date-DD/MM/YY.2                             41\n",
       "Q-Val.(Rs.Lac)                              46\n",
       "Quote-QTY                                   46\n",
       "Order-(Recd\\Lost)                            0\n",
       "Date-DD/MM/YY.3                            181\n",
       "Order-Val.(Rs.Lac)                         181\n",
       "Order_QTY                                  181\n",
       "Quote_ID(as_per_match_to_CCC_Records)      113\n",
       "Remarks-Brand-and-value-if-lost-to-UPVC    106\n",
       "Second-Action-Call-Status.1                229\n",
       "Remarks                                     58\n",
       "Price_Per_Sft                                0\n",
       "Benefits                                   176\n",
       "Aesthetics                                 192\n",
       "Reduce_Street_Noise                        192\n",
       "Low_Maintenance                            192\n",
       "Monsoon_Proof                              192\n",
       "Better_Lighting                            192\n",
       "Reduce_AC_Energy_Cost                      192\n",
       "Year                                         0\n",
       "month                                        0\n",
       "year                                         0\n",
       "dtype: int64"
      ]
     },
     "execution_count": 37,
     "metadata": {},
     "output_type": "execute_result"
    }
   ],
   "source": [
    "data.isna().sum()"
   ]
  },
  {
   "cell_type": "code",
   "execution_count": 38,
   "metadata": {},
   "outputs": [],
   "source": [
    "data['Order_QTY'].fillna(0, inplace=True)"
   ]
  },
  {
   "cell_type": "code",
   "execution_count": 39,
   "metadata": {},
   "outputs": [
    {
     "data": {
      "text/plain": [
       "Month                                        0\n",
       "Enquiry_Date                                 0\n",
       "Enquiry_Id                                   0\n",
       "Allocation_Status                            0\n",
       "Status                                       0\n",
       "State                                        0\n",
       "City                                         0\n",
       "Pincode                                      0\n",
       "Type_of_Project                              0\n",
       "No_of_Windows                                0\n",
       "Source                                       0\n",
       "Zone                                         0\n",
       "Dealer_Name                                  0\n",
       "First_Action-Call_made                       0\n",
       "Date_DD/MM/YY                                0\n",
       "First-Action-Call-Status                     0\n",
       "Date of Appointment (DD/MM/YY)              37\n",
       "Second Action-Customer Meeting              37\n",
       "Date-DD/MM/YY.1                             37\n",
       "Second-Action-Call-Status                   38\n",
       "Third-Action-Quote-Given                    40\n",
       "Date-DD/MM/YY.2                             41\n",
       "Q-Val.(Rs.Lac)                              46\n",
       "Quote-QTY                                   46\n",
       "Order-(Recd\\Lost)                            0\n",
       "Date-DD/MM/YY.3                            181\n",
       "Order-Val.(Rs.Lac)                         181\n",
       "Order_QTY                                    0\n",
       "Quote_ID(as_per_match_to_CCC_Records)      113\n",
       "Remarks-Brand-and-value-if-lost-to-UPVC    106\n",
       "Second-Action-Call-Status.1                229\n",
       "Remarks                                     58\n",
       "Price_Per_Sft                                0\n",
       "Benefits                                   176\n",
       "Aesthetics                                 192\n",
       "Reduce_Street_Noise                        192\n",
       "Low_Maintenance                            192\n",
       "Monsoon_Proof                              192\n",
       "Better_Lighting                            192\n",
       "Reduce_AC_Energy_Cost                      192\n",
       "Year                                         0\n",
       "month                                        0\n",
       "year                                         0\n",
       "dtype: int64"
      ]
     },
     "execution_count": 39,
     "metadata": {},
     "output_type": "execute_result"
    }
   ],
   "source": [
    "data.isna().sum()"
   ]
  },
  {
   "cell_type": "code",
   "execution_count": 40,
   "metadata": {},
   "outputs": [
    {
     "data": {
      "text/plain": [
       "491.0"
      ]
     },
     "execution_count": 40,
     "metadata": {},
     "output_type": "execute_result"
    }
   ],
   "source": [
    "pd.set_option('max_colwidth',200)\n",
    "data['Order_QTY'].sum()"
   ]
  },
  {
   "cell_type": "code",
   "execution_count": 67,
   "metadata": {},
   "outputs": [
    {
     "data": {
      "image/png": "[encoded data removed]",
      "text/plain": [
       "<Figure size 432x288 with 1 Axes>"
      ]
     },
     "metadata": {
      "needs_background": "light"
     },
     "output_type": "display_data"
    }
   ],
   "source": [
    "data['Order_QTY'].value_counts().plot(kind='bar')\n",
    "plt.title('Ordered quantity by lost enquiries')\n",
    "plt.xlabel('Quantity ordered')\n",
    "plt.ylabel('Count of enquiries')\n",
    "plt.show()\n",
    "\n"
   ]
  },
  {
   "cell_type": "code",
   "execution_count": 68,
   "metadata": {},
   "outputs": [
    {
     "data": {
      "text/plain": [
       "0.0     181\n",
       "1.0      10\n",
       "2.0       6\n",
       "3.0       3\n",
       "6.0       3\n",
       "8.0       3\n",
       "9.0       3\n",
       "4.0       3\n",
       "7.0       3\n",
       "16.0      2\n",
       "14.0      2\n",
       "13.0      2\n",
       "45.0      1\n",
       "5.0       1\n",
       "58.0      1\n",
       "12.0      1\n",
       "73.0      1\n",
       "41.0      1\n",
       "28.0      1\n",
       "10.0      1\n",
       "Name: Order_QTY, dtype: int64"
      ]
     },
     "execution_count": 68,
     "metadata": {},
     "output_type": "execute_result"
    }
   ],
   "source": [
    "data['Order_QTY'].value_counts()"
   ]
  },
  {
   "cell_type": "code",
   "execution_count": 74,
   "metadata": {},
   "outputs": [
    {
     "data": {
      "text/plain": [
       "(146, 43)"
      ]
     },
     "execution_count": 74,
     "metadata": {},
     "output_type": "execute_result"
    }
   ],
   "source": [
    "data_new = data[data['City'] == 'CHENNAI'] \n",
    "data_new.shape"
   ]
  },
  {
   "cell_type": "code",
   "execution_count": 70,
   "metadata": {},
   "outputs": [],
   "source": [
    "data_new = data.copy()"
   ]
  },
  {
   "cell_type": "code",
   "execution_count": 45,
   "metadata": {},
   "outputs": [
    {
     "data": {
      "text/plain": [
       "(229, 43)"
      ]
     },
     "execution_count": 45,
     "metadata": {},
     "output_type": "execute_result"
    }
   ],
   "source": [
    "data_new.shape"
   ]
  },
  {
   "cell_type": "code",
   "execution_count": 71,
   "metadata": {
    "scrolled": true
   },
   "outputs": [
    {
     "data": {
      "text/plain": [
       "Dealer    165\n",
       "Direct     64\n",
       "Name: Allocation_Status, dtype: int64"
      ]
     },
     "execution_count": 71,
     "metadata": {},
     "output_type": "execute_result"
    }
   ],
   "source": [
    "data_new['Allocation_Status'].value_counts()"
   ]
  },
  {
   "cell_type": "code",
   "execution_count": 72,
   "metadata": {},
   "outputs": [
    {
     "data": {
      "text/plain": [
       "(229, 43)"
      ]
     },
     "execution_count": 72,
     "metadata": {},
     "output_type": "execute_result"
    }
   ],
   "source": [
    "data_new.shape"
   ]
  },
  {
   "cell_type": "code",
   "execution_count": 73,
   "metadata": {},
   "outputs": [
    {
     "data": {
      "text/plain": [
       "Lost    176\n",
       "Won      53\n",
       "Name: Status, dtype: int64"
      ]
     },
     "execution_count": 73,
     "metadata": {},
     "output_type": "execute_result"
    }
   ],
   "source": [
    "data_new.Status.value_counts()"
   ]
  },
  {
   "cell_type": "code",
   "execution_count": 49,
   "metadata": {},
   "outputs": [
    {
     "data": {
      "text/html": [
       "<div>\n",
       "<style scoped>\n",
       "    .dataframe tbody tr th:only-of-type {\n",
       "        vertical-align: middle;\n",
       "    }\n",
       "\n",
       "    .dataframe tbody tr th {\n",
       "        vertical-align: top;\n",
       "    }\n",
       "\n",
       "    .dataframe thead th {\n",
       "        text-align: right;\n",
       "    }\n",
       "</style>\n",
       "<table border=\"1\" class=\"dataframe\">\n",
       "  <thead>\n",
       "    <tr style=\"text-align: right;\">\n",
       "      <th></th>\n",
       "      <th>Month</th>\n",
       "      <th>Enquiry_Date</th>\n",
       "      <th>Enquiry_Id</th>\n",
       "      <th>Allocation_Status</th>\n",
       "      <th>Status</th>\n",
       "      <th>State</th>\n",
       "      <th>City</th>\n",
       "      <th>Pincode</th>\n",
       "      <th>Type_of_Project</th>\n",
       "      <th>No_of_Windows</th>\n",
       "      <th>...</th>\n",
       "      <th>Benefits</th>\n",
       "      <th>Aesthetics</th>\n",
       "      <th>Reduce_Street_Noise</th>\n",
       "      <th>Low_Maintenance</th>\n",
       "      <th>Monsoon_Proof</th>\n",
       "      <th>Better_Lighting</th>\n",
       "      <th>Reduce_AC_Energy_Cost</th>\n",
       "      <th>Year</th>\n",
       "      <th>month</th>\n",
       "      <th>year</th>\n",
       "    </tr>\n",
       "  </thead>\n",
       "  <tbody>\n",
       "    <tr>\n",
       "      <th>0</th>\n",
       "      <td>April'16</td>\n",
       "      <td>2-Apr-16</td>\n",
       "      <td>EC02041646800</td>\n",
       "      <td>Dealer</td>\n",
       "      <td>Won</td>\n",
       "      <td>TAMILNADU</td>\n",
       "      <td>CHENNAI</td>\n",
       "      <td>600008</td>\n",
       "      <td>Renovation</td>\n",
       "      <td>6 to 10</td>\n",
       "      <td>...</td>\n",
       "      <td>Aesthetics &amp; Street Noise</td>\n",
       "      <td>1.0</td>\n",
       "      <td>1.0</td>\n",
       "      <td>0.0</td>\n",
       "      <td>0.0</td>\n",
       "      <td>0.0</td>\n",
       "      <td>0.0</td>\n",
       "      <td>2016-04-02</td>\n",
       "      <td>Apr</td>\n",
       "      <td>2016</td>\n",
       "    </tr>\n",
       "    <tr>\n",
       "      <th>1</th>\n",
       "      <td>April'16</td>\n",
       "      <td>8-Apr-16</td>\n",
       "      <td>EC08041647157</td>\n",
       "      <td>Dealer</td>\n",
       "      <td>Lost</td>\n",
       "      <td>TAMILNADU</td>\n",
       "      <td>CHENNAI</td>\n",
       "      <td>600042</td>\n",
       "      <td>New Construction</td>\n",
       "      <td>6 to 10</td>\n",
       "      <td>...</td>\n",
       "      <td>NaN</td>\n",
       "      <td>NaN</td>\n",
       "      <td>NaN</td>\n",
       "      <td>NaN</td>\n",
       "      <td>NaN</td>\n",
       "      <td>NaN</td>\n",
       "      <td>NaN</td>\n",
       "      <td>2016-04-08</td>\n",
       "      <td>Apr</td>\n",
       "      <td>2016</td>\n",
       "    </tr>\n",
       "    <tr>\n",
       "      <th>2</th>\n",
       "      <td>April'16</td>\n",
       "      <td>8-Apr-16</td>\n",
       "      <td>EC08041647130</td>\n",
       "      <td>Dealer</td>\n",
       "      <td>Lost</td>\n",
       "      <td>TAMILNADU</td>\n",
       "      <td>CHENNAI</td>\n",
       "      <td>600015</td>\n",
       "      <td>New Construction</td>\n",
       "      <td>1 to 5</td>\n",
       "      <td>...</td>\n",
       "      <td>NaN</td>\n",
       "      <td>NaN</td>\n",
       "      <td>NaN</td>\n",
       "      <td>NaN</td>\n",
       "      <td>NaN</td>\n",
       "      <td>NaN</td>\n",
       "      <td>NaN</td>\n",
       "      <td>2016-04-08</td>\n",
       "      <td>Apr</td>\n",
       "      <td>2016</td>\n",
       "    </tr>\n",
       "    <tr>\n",
       "      <th>3</th>\n",
       "      <td>April'16</td>\n",
       "      <td>9-Apr-16</td>\n",
       "      <td>EC09041647202</td>\n",
       "      <td>Direct</td>\n",
       "      <td>Lost</td>\n",
       "      <td>TAMILNADU</td>\n",
       "      <td>KANCHIPURAM</td>\n",
       "      <td>600075</td>\n",
       "      <td>New Construction</td>\n",
       "      <td>21 to 40</td>\n",
       "      <td>...</td>\n",
       "      <td>NaN</td>\n",
       "      <td>NaN</td>\n",
       "      <td>NaN</td>\n",
       "      <td>NaN</td>\n",
       "      <td>NaN</td>\n",
       "      <td>NaN</td>\n",
       "      <td>NaN</td>\n",
       "      <td>2016-04-09</td>\n",
       "      <td>Apr</td>\n",
       "      <td>2016</td>\n",
       "    </tr>\n",
       "    <tr>\n",
       "      <th>4</th>\n",
       "      <td>April'16</td>\n",
       "      <td>11-Apr-16</td>\n",
       "      <td>EC11041647360</td>\n",
       "      <td>Direct</td>\n",
       "      <td>Won</td>\n",
       "      <td>TAMILNADU</td>\n",
       "      <td>CHENNAI</td>\n",
       "      <td>600041</td>\n",
       "      <td>Renovation</td>\n",
       "      <td>6 to 10</td>\n",
       "      <td>...</td>\n",
       "      <td>Reduce AC Energy Cost</td>\n",
       "      <td>0.0</td>\n",
       "      <td>0.0</td>\n",
       "      <td>0.0</td>\n",
       "      <td>0.0</td>\n",
       "      <td>0.0</td>\n",
       "      <td>1.0</td>\n",
       "      <td>2016-04-11</td>\n",
       "      <td>Apr</td>\n",
       "      <td>2016</td>\n",
       "    </tr>\n",
       "    <tr>\n",
       "      <th>5</th>\n",
       "      <td>April'16</td>\n",
       "      <td>11-Apr-16</td>\n",
       "      <td>EC11041647280</td>\n",
       "      <td>Dealer</td>\n",
       "      <td>Lost</td>\n",
       "      <td>TAMILNADU</td>\n",
       "      <td>CHENNAI</td>\n",
       "      <td>600056</td>\n",
       "      <td>Renovation</td>\n",
       "      <td>1 to 5</td>\n",
       "      <td>...</td>\n",
       "      <td>NaN</td>\n",
       "      <td>NaN</td>\n",
       "      <td>NaN</td>\n",
       "      <td>NaN</td>\n",
       "      <td>NaN</td>\n",
       "      <td>NaN</td>\n",
       "      <td>NaN</td>\n",
       "      <td>2016-04-11</td>\n",
       "      <td>Apr</td>\n",
       "      <td>2016</td>\n",
       "    </tr>\n",
       "    <tr>\n",
       "      <th>6</th>\n",
       "      <td>April'16</td>\n",
       "      <td>12-Apr-16</td>\n",
       "      <td>EC12041647460</td>\n",
       "      <td>Dealer</td>\n",
       "      <td>Lost</td>\n",
       "      <td>TAMILNADU</td>\n",
       "      <td>CHENNAI</td>\n",
       "      <td>600042</td>\n",
       "      <td>New Construction</td>\n",
       "      <td>11 to 20</td>\n",
       "      <td>...</td>\n",
       "      <td>NaN</td>\n",
       "      <td>NaN</td>\n",
       "      <td>NaN</td>\n",
       "      <td>NaN</td>\n",
       "      <td>NaN</td>\n",
       "      <td>NaN</td>\n",
       "      <td>NaN</td>\n",
       "      <td>2016-04-12</td>\n",
       "      <td>Apr</td>\n",
       "      <td>2016</td>\n",
       "    </tr>\n",
       "    <tr>\n",
       "      <th>7</th>\n",
       "      <td>April'16</td>\n",
       "      <td>12-Apr-16</td>\n",
       "      <td>EC12041647402</td>\n",
       "      <td>Dealer</td>\n",
       "      <td>Lost</td>\n",
       "      <td>TAMILNADU</td>\n",
       "      <td>VELLORE</td>\n",
       "      <td>635751</td>\n",
       "      <td>Renovation</td>\n",
       "      <td>6 to 10</td>\n",
       "      <td>...</td>\n",
       "      <td>NaN</td>\n",
       "      <td>NaN</td>\n",
       "      <td>NaN</td>\n",
       "      <td>NaN</td>\n",
       "      <td>NaN</td>\n",
       "      <td>NaN</td>\n",
       "      <td>NaN</td>\n",
       "      <td>2016-04-12</td>\n",
       "      <td>Apr</td>\n",
       "      <td>2016</td>\n",
       "    </tr>\n",
       "    <tr>\n",
       "      <th>8</th>\n",
       "      <td>April'16</td>\n",
       "      <td>14-Apr-16</td>\n",
       "      <td>EC13041647531</td>\n",
       "      <td>Dealer</td>\n",
       "      <td>Lost</td>\n",
       "      <td>TAMILNADU</td>\n",
       "      <td>CHENNAI</td>\n",
       "      <td>600006</td>\n",
       "      <td>Renovation</td>\n",
       "      <td>1 to 5</td>\n",
       "      <td>...</td>\n",
       "      <td>NaN</td>\n",
       "      <td>NaN</td>\n",
       "      <td>NaN</td>\n",
       "      <td>NaN</td>\n",
       "      <td>NaN</td>\n",
       "      <td>NaN</td>\n",
       "      <td>NaN</td>\n",
       "      <td>2016-04-14</td>\n",
       "      <td>Apr</td>\n",
       "      <td>2016</td>\n",
       "    </tr>\n",
       "    <tr>\n",
       "      <th>9</th>\n",
       "      <td>April'16</td>\n",
       "      <td>15-Apr-16</td>\n",
       "      <td>EC15041647749</td>\n",
       "      <td>Dealer</td>\n",
       "      <td>Lost</td>\n",
       "      <td>TAMILNADU</td>\n",
       "      <td>CHENNAI</td>\n",
       "      <td>600113</td>\n",
       "      <td>New Construction</td>\n",
       "      <td>6 to 10</td>\n",
       "      <td>...</td>\n",
       "      <td>NaN</td>\n",
       "      <td>NaN</td>\n",
       "      <td>NaN</td>\n",
       "      <td>NaN</td>\n",
       "      <td>NaN</td>\n",
       "      <td>NaN</td>\n",
       "      <td>NaN</td>\n",
       "      <td>2016-04-15</td>\n",
       "      <td>Apr</td>\n",
       "      <td>2016</td>\n",
       "    </tr>\n",
       "    <tr>\n",
       "      <th>10</th>\n",
       "      <td>April'16</td>\n",
       "      <td>15-Apr-16</td>\n",
       "      <td>EC15041647740</td>\n",
       "      <td>Dealer</td>\n",
       "      <td>Lost</td>\n",
       "      <td>TAMILNADU</td>\n",
       "      <td>CHENNAI</td>\n",
       "      <td>600107</td>\n",
       "      <td>New Construction</td>\n",
       "      <td>1 to 5</td>\n",
       "      <td>...</td>\n",
       "      <td>NaN</td>\n",
       "      <td>NaN</td>\n",
       "      <td>NaN</td>\n",
       "      <td>NaN</td>\n",
       "      <td>NaN</td>\n",
       "      <td>NaN</td>\n",
       "      <td>NaN</td>\n",
       "      <td>2016-04-15</td>\n",
       "      <td>Apr</td>\n",
       "      <td>2016</td>\n",
       "    </tr>\n",
       "    <tr>\n",
       "      <th>11</th>\n",
       "      <td>April'16</td>\n",
       "      <td>17-Apr-16</td>\n",
       "      <td>EC17041647818</td>\n",
       "      <td>Dealer</td>\n",
       "      <td>Lost</td>\n",
       "      <td>TAMILNADU</td>\n",
       "      <td>CHENNAI</td>\n",
       "      <td>600041</td>\n",
       "      <td>New Construction</td>\n",
       "      <td>41 to 100</td>\n",
       "      <td>...</td>\n",
       "      <td>NaN</td>\n",
       "      <td>NaN</td>\n",
       "      <td>NaN</td>\n",
       "      <td>NaN</td>\n",
       "      <td>NaN</td>\n",
       "      <td>NaN</td>\n",
       "      <td>NaN</td>\n",
       "      <td>2016-04-17</td>\n",
       "      <td>Apr</td>\n",
       "      <td>2016</td>\n",
       "    </tr>\n",
       "    <tr>\n",
       "      <th>12</th>\n",
       "      <td>April'16</td>\n",
       "      <td>17-Apr-16</td>\n",
       "      <td>EC17041647824</td>\n",
       "      <td>Dealer</td>\n",
       "      <td>Won</td>\n",
       "      <td>TAMILNADU</td>\n",
       "      <td>CHENNAI</td>\n",
       "      <td>600028</td>\n",
       "      <td>New Construction</td>\n",
       "      <td>1 to 5</td>\n",
       "      <td>...</td>\n",
       "      <td>Nil</td>\n",
       "      <td>NaN</td>\n",
       "      <td>NaN</td>\n",
       "      <td>NaN</td>\n",
       "      <td>NaN</td>\n",
       "      <td>NaN</td>\n",
       "      <td>NaN</td>\n",
       "      <td>2016-04-17</td>\n",
       "      <td>Apr</td>\n",
       "      <td>2016</td>\n",
       "    </tr>\n",
       "    <tr>\n",
       "      <th>13</th>\n",
       "      <td>April'16</td>\n",
       "      <td>18-Apr-16</td>\n",
       "      <td>EC18041647862</td>\n",
       "      <td>Dealer</td>\n",
       "      <td>Lost</td>\n",
       "      <td>TAMILNADU</td>\n",
       "      <td>CHENNAI</td>\n",
       "      <td>600092</td>\n",
       "      <td>Renovation</td>\n",
       "      <td>1 to 5</td>\n",
       "      <td>...</td>\n",
       "      <td>NaN</td>\n",
       "      <td>NaN</td>\n",
       "      <td>NaN</td>\n",
       "      <td>NaN</td>\n",
       "      <td>NaN</td>\n",
       "      <td>NaN</td>\n",
       "      <td>NaN</td>\n",
       "      <td>2016-04-18</td>\n",
       "      <td>Apr</td>\n",
       "      <td>2016</td>\n",
       "    </tr>\n",
       "    <tr>\n",
       "      <th>14</th>\n",
       "      <td>April'16</td>\n",
       "      <td>18-Apr-16</td>\n",
       "      <td>EC18041647914</td>\n",
       "      <td>Dealer</td>\n",
       "      <td>Won</td>\n",
       "      <td>TAMILNADU</td>\n",
       "      <td>CHENNAI</td>\n",
       "      <td>600020</td>\n",
       "      <td>New Construction</td>\n",
       "      <td>6 to 10</td>\n",
       "      <td>...</td>\n",
       "      <td>Reduce AC Energy Cost &amp; Street Noise</td>\n",
       "      <td>0.0</td>\n",
       "      <td>1.0</td>\n",
       "      <td>0.0</td>\n",
       "      <td>0.0</td>\n",
       "      <td>0.0</td>\n",
       "      <td>1.0</td>\n",
       "      <td>2016-04-18</td>\n",
       "      <td>Apr</td>\n",
       "      <td>2016</td>\n",
       "    </tr>\n",
       "    <tr>\n",
       "      <th>15</th>\n",
       "      <td>April'16</td>\n",
       "      <td>19-Apr-16</td>\n",
       "      <td>EC19041648005</td>\n",
       "      <td>Dealer</td>\n",
       "      <td>Lost</td>\n",
       "      <td>TAMILNADU</td>\n",
       "      <td>CHENNAI</td>\n",
       "      <td>600086</td>\n",
       "      <td>Renovation</td>\n",
       "      <td>1 to 5</td>\n",
       "      <td>...</td>\n",
       "      <td>NaN</td>\n",
       "      <td>NaN</td>\n",
       "      <td>NaN</td>\n",
       "      <td>NaN</td>\n",
       "      <td>NaN</td>\n",
       "      <td>NaN</td>\n",
       "      <td>NaN</td>\n",
       "      <td>2016-04-19</td>\n",
       "      <td>Apr</td>\n",
       "      <td>2016</td>\n",
       "    </tr>\n",
       "    <tr>\n",
       "      <th>16</th>\n",
       "      <td>April'16</td>\n",
       "      <td>20-Apr-16</td>\n",
       "      <td>EC20041648053</td>\n",
       "      <td>Dealer</td>\n",
       "      <td>Lost</td>\n",
       "      <td>TAMILNADU</td>\n",
       "      <td>CHENNAI</td>\n",
       "      <td>600008</td>\n",
       "      <td>Renovation</td>\n",
       "      <td>1 to 5</td>\n",
       "      <td>...</td>\n",
       "      <td>NaN</td>\n",
       "      <td>NaN</td>\n",
       "      <td>NaN</td>\n",
       "      <td>NaN</td>\n",
       "      <td>NaN</td>\n",
       "      <td>NaN</td>\n",
       "      <td>NaN</td>\n",
       "      <td>2016-04-20</td>\n",
       "      <td>Apr</td>\n",
       "      <td>2016</td>\n",
       "    </tr>\n",
       "    <tr>\n",
       "      <th>17</th>\n",
       "      <td>April'16</td>\n",
       "      <td>21-Apr-16</td>\n",
       "      <td>EC21041648143</td>\n",
       "      <td>Dealer</td>\n",
       "      <td>Won</td>\n",
       "      <td>TAMILNADU</td>\n",
       "      <td>CHENNAI</td>\n",
       "      <td>600029</td>\n",
       "      <td>Renovation</td>\n",
       "      <td>21 to 40</td>\n",
       "      <td>...</td>\n",
       "      <td>Reduce AC Energy Cost &amp; Street Noise</td>\n",
       "      <td>0.0</td>\n",
       "      <td>1.0</td>\n",
       "      <td>0.0</td>\n",
       "      <td>0.0</td>\n",
       "      <td>0.0</td>\n",
       "      <td>1.0</td>\n",
       "      <td>2016-04-21</td>\n",
       "      <td>Apr</td>\n",
       "      <td>2016</td>\n",
       "    </tr>\n",
       "    <tr>\n",
       "      <th>18</th>\n",
       "      <td>April'16</td>\n",
       "      <td>21-Apr-16</td>\n",
       "      <td>EC21041648139</td>\n",
       "      <td>Dealer</td>\n",
       "      <td>Won</td>\n",
       "      <td>TAMILNADU</td>\n",
       "      <td>CHENNAI</td>\n",
       "      <td>600078</td>\n",
       "      <td>New Construction</td>\n",
       "      <td>6 to 10</td>\n",
       "      <td>...</td>\n",
       "      <td>Reduce Street Noise</td>\n",
       "      <td>0.0</td>\n",
       "      <td>1.0</td>\n",
       "      <td>0.0</td>\n",
       "      <td>0.0</td>\n",
       "      <td>0.0</td>\n",
       "      <td>0.0</td>\n",
       "      <td>2016-04-21</td>\n",
       "      <td>Apr</td>\n",
       "      <td>2016</td>\n",
       "    </tr>\n",
       "    <tr>\n",
       "      <th>19</th>\n",
       "      <td>April'16</td>\n",
       "      <td>22-Apr-16</td>\n",
       "      <td>EC22041648210</td>\n",
       "      <td>Dealer</td>\n",
       "      <td>Lost</td>\n",
       "      <td>TAMILNADU</td>\n",
       "      <td>CHENNAI</td>\n",
       "      <td>600040</td>\n",
       "      <td>Renovation</td>\n",
       "      <td>1 to 5</td>\n",
       "      <td>...</td>\n",
       "      <td>NaN</td>\n",
       "      <td>NaN</td>\n",
       "      <td>NaN</td>\n",
       "      <td>NaN</td>\n",
       "      <td>NaN</td>\n",
       "      <td>NaN</td>\n",
       "      <td>NaN</td>\n",
       "      <td>2016-04-22</td>\n",
       "      <td>Apr</td>\n",
       "      <td>2016</td>\n",
       "    </tr>\n",
       "    <tr>\n",
       "      <th>20</th>\n",
       "      <td>April'16</td>\n",
       "      <td>22-Apr-16</td>\n",
       "      <td>EC21041648139</td>\n",
       "      <td>Dealer</td>\n",
       "      <td>Won</td>\n",
       "      <td>TAMILNADU</td>\n",
       "      <td>CHENNAI</td>\n",
       "      <td>600078</td>\n",
       "      <td>Renovation</td>\n",
       "      <td>6 to 10</td>\n",
       "      <td>...</td>\n",
       "      <td>Reduce Street Noise</td>\n",
       "      <td>0.0</td>\n",
       "      <td>1.0</td>\n",
       "      <td>0.0</td>\n",
       "      <td>0.0</td>\n",
       "      <td>0.0</td>\n",
       "      <td>0.0</td>\n",
       "      <td>2016-04-22</td>\n",
       "      <td>Apr</td>\n",
       "      <td>2016</td>\n",
       "    </tr>\n",
       "    <tr>\n",
       "      <th>21</th>\n",
       "      <td>April'16</td>\n",
       "      <td>25-Apr-16</td>\n",
       "      <td>EC06101535268</td>\n",
       "      <td>Dealer</td>\n",
       "      <td>Lost</td>\n",
       "      <td>TAMILNADU</td>\n",
       "      <td>CHENNAI</td>\n",
       "      <td>600010</td>\n",
       "      <td>Renovation</td>\n",
       "      <td>6 to 10</td>\n",
       "      <td>...</td>\n",
       "      <td>NaN</td>\n",
       "      <td>NaN</td>\n",
       "      <td>NaN</td>\n",
       "      <td>NaN</td>\n",
       "      <td>NaN</td>\n",
       "      <td>NaN</td>\n",
       "      <td>NaN</td>\n",
       "      <td>2016-04-25</td>\n",
       "      <td>Apr</td>\n",
       "      <td>2016</td>\n",
       "    </tr>\n",
       "    <tr>\n",
       "      <th>22</th>\n",
       "      <td>April'16</td>\n",
       "      <td>25-Apr-16</td>\n",
       "      <td>EC25041648426</td>\n",
       "      <td>Dealer</td>\n",
       "      <td>Lost</td>\n",
       "      <td>TAMILNADU</td>\n",
       "      <td>CHENNAI</td>\n",
       "      <td>600035</td>\n",
       "      <td>Renovation</td>\n",
       "      <td>1 to 5</td>\n",
       "      <td>...</td>\n",
       "      <td>NaN</td>\n",
       "      <td>NaN</td>\n",
       "      <td>NaN</td>\n",
       "      <td>NaN</td>\n",
       "      <td>NaN</td>\n",
       "      <td>NaN</td>\n",
       "      <td>NaN</td>\n",
       "      <td>2016-04-25</td>\n",
       "      <td>Apr</td>\n",
       "      <td>2016</td>\n",
       "    </tr>\n",
       "    <tr>\n",
       "      <th>23</th>\n",
       "      <td>April'16</td>\n",
       "      <td>26-Apr-16</td>\n",
       "      <td>EC2002143733</td>\n",
       "      <td>Dealer</td>\n",
       "      <td>Lost</td>\n",
       "      <td>TAMILNADU</td>\n",
       "      <td>CHENNAI</td>\n",
       "      <td>600004</td>\n",
       "      <td>New Construction</td>\n",
       "      <td>1 to 5</td>\n",
       "      <td>...</td>\n",
       "      <td>NaN</td>\n",
       "      <td>NaN</td>\n",
       "      <td>NaN</td>\n",
       "      <td>NaN</td>\n",
       "      <td>NaN</td>\n",
       "      <td>NaN</td>\n",
       "      <td>NaN</td>\n",
       "      <td>2016-04-26</td>\n",
       "      <td>Apr</td>\n",
       "      <td>2016</td>\n",
       "    </tr>\n",
       "    <tr>\n",
       "      <th>24</th>\n",
       "      <td>April'16</td>\n",
       "      <td>27-Apr-16</td>\n",
       "      <td>EC27041648574</td>\n",
       "      <td>Dealer</td>\n",
       "      <td>Lost</td>\n",
       "      <td>TAMILNADU</td>\n",
       "      <td>CHENNAI</td>\n",
       "      <td>600020</td>\n",
       "      <td>Renovation</td>\n",
       "      <td>1 to 5</td>\n",
       "      <td>...</td>\n",
       "      <td>NaN</td>\n",
       "      <td>NaN</td>\n",
       "      <td>NaN</td>\n",
       "      <td>NaN</td>\n",
       "      <td>NaN</td>\n",
       "      <td>NaN</td>\n",
       "      <td>NaN</td>\n",
       "      <td>2016-04-27</td>\n",
       "      <td>Apr</td>\n",
       "      <td>2016</td>\n",
       "    </tr>\n",
       "    <tr>\n",
       "      <th>25</th>\n",
       "      <td>April'16</td>\n",
       "      <td>28-Apr-16</td>\n",
       "      <td>EC25041648424</td>\n",
       "      <td>Dealer</td>\n",
       "      <td>Lost</td>\n",
       "      <td>TAMILNADU</td>\n",
       "      <td>CHENNAI</td>\n",
       "      <td>600077</td>\n",
       "      <td>New Construction</td>\n",
       "      <td>11 to 20</td>\n",
       "      <td>...</td>\n",
       "      <td>NaN</td>\n",
       "      <td>NaN</td>\n",
       "      <td>NaN</td>\n",
       "      <td>NaN</td>\n",
       "      <td>NaN</td>\n",
       "      <td>NaN</td>\n",
       "      <td>NaN</td>\n",
       "      <td>2016-04-28</td>\n",
       "      <td>Apr</td>\n",
       "      <td>2016</td>\n",
       "    </tr>\n",
       "    <tr>\n",
       "      <th>26</th>\n",
       "      <td>April'16</td>\n",
       "      <td>30-Apr-16</td>\n",
       "      <td>EC30041648800</td>\n",
       "      <td>Dealer</td>\n",
       "      <td>Lost</td>\n",
       "      <td>TAMILNADU</td>\n",
       "      <td>CHENNAI</td>\n",
       "      <td>600011</td>\n",
       "      <td>Renovation</td>\n",
       "      <td>1 to 5</td>\n",
       "      <td>...</td>\n",
       "      <td>NaN</td>\n",
       "      <td>NaN</td>\n",
       "      <td>NaN</td>\n",
       "      <td>NaN</td>\n",
       "      <td>NaN</td>\n",
       "      <td>NaN</td>\n",
       "      <td>NaN</td>\n",
       "      <td>2016-04-30</td>\n",
       "      <td>Apr</td>\n",
       "      <td>2016</td>\n",
       "    </tr>\n",
       "    <tr>\n",
       "      <th>27</th>\n",
       "      <td>June'16</td>\n",
       "      <td>4-Jun-16</td>\n",
       "      <td>EC04061651354</td>\n",
       "      <td>Dealer</td>\n",
       "      <td>Lost</td>\n",
       "      <td>TAMILNADU</td>\n",
       "      <td>THIRUVALLUR</td>\n",
       "      <td>600037</td>\n",
       "      <td>Renovation</td>\n",
       "      <td>1 to 5</td>\n",
       "      <td>...</td>\n",
       "      <td>NaN</td>\n",
       "      <td>NaN</td>\n",
       "      <td>NaN</td>\n",
       "      <td>NaN</td>\n",
       "      <td>NaN</td>\n",
       "      <td>NaN</td>\n",
       "      <td>NaN</td>\n",
       "      <td>2016-06-04</td>\n",
       "      <td>Jun</td>\n",
       "      <td>2016</td>\n",
       "    </tr>\n",
       "    <tr>\n",
       "      <th>28</th>\n",
       "      <td>June'16</td>\n",
       "      <td>8-Jun-16</td>\n",
       "      <td>EC08061651611</td>\n",
       "      <td>Direct</td>\n",
       "      <td>Lost</td>\n",
       "      <td>TAMILNADU</td>\n",
       "      <td>CHENNAI</td>\n",
       "      <td>600034</td>\n",
       "      <td>New Construction</td>\n",
       "      <td>11 to 20</td>\n",
       "      <td>...</td>\n",
       "      <td>NaN</td>\n",
       "      <td>NaN</td>\n",
       "      <td>NaN</td>\n",
       "      <td>NaN</td>\n",
       "      <td>NaN</td>\n",
       "      <td>NaN</td>\n",
       "      <td>NaN</td>\n",
       "      <td>2016-06-08</td>\n",
       "      <td>Jun</td>\n",
       "      <td>2016</td>\n",
       "    </tr>\n",
       "    <tr>\n",
       "      <th>29</th>\n",
       "      <td>June'16</td>\n",
       "      <td>9-Jun-16</td>\n",
       "      <td>EC09061651686</td>\n",
       "      <td>Dealer</td>\n",
       "      <td>Lost</td>\n",
       "      <td>TAMILNADU</td>\n",
       "      <td>VELLORE</td>\n",
       "      <td>631052</td>\n",
       "      <td>New Construction</td>\n",
       "      <td>6 to 10</td>\n",
       "      <td>...</td>\n",
       "      <td>NaN</td>\n",
       "      <td>NaN</td>\n",
       "      <td>NaN</td>\n",
       "      <td>NaN</td>\n",
       "      <td>NaN</td>\n",
       "      <td>NaN</td>\n",
       "      <td>NaN</td>\n",
       "      <td>2016-06-09</td>\n",
       "      <td>Jun</td>\n",
       "      <td>2016</td>\n",
       "    </tr>\n",
       "    <tr>\n",
       "      <th>...</th>\n",
       "      <td>...</td>\n",
       "      <td>...</td>\n",
       "      <td>...</td>\n",
       "      <td>...</td>\n",
       "      <td>...</td>\n",
       "      <td>...</td>\n",
       "      <td>...</td>\n",
       "      <td>...</td>\n",
       "      <td>...</td>\n",
       "      <td>...</td>\n",
       "      <td>...</td>\n",
       "      <td>...</td>\n",
       "      <td>...</td>\n",
       "      <td>...</td>\n",
       "      <td>...</td>\n",
       "      <td>...</td>\n",
       "      <td>...</td>\n",
       "      <td>...</td>\n",
       "      <td>...</td>\n",
       "      <td>...</td>\n",
       "      <td>...</td>\n",
       "    </tr>\n",
       "    <tr>\n",
       "      <th>199</th>\n",
       "      <td>Dec'16</td>\n",
       "      <td>25-Dec-16</td>\n",
       "      <td>EC25121667555</td>\n",
       "      <td>Direct</td>\n",
       "      <td>Won</td>\n",
       "      <td>TAMILNADU</td>\n",
       "      <td>CHENNAI</td>\n",
       "      <td>600005</td>\n",
       "      <td>Renovation</td>\n",
       "      <td>6 to 10</td>\n",
       "      <td>...</td>\n",
       "      <td>Aesthetics &amp; Low Maintenance</td>\n",
       "      <td>1.0</td>\n",
       "      <td>0.0</td>\n",
       "      <td>1.0</td>\n",
       "      <td>0.0</td>\n",
       "      <td>0.0</td>\n",
       "      <td>0.0</td>\n",
       "      <td>2016-12-25</td>\n",
       "      <td>Dec</td>\n",
       "      <td>2016</td>\n",
       "    </tr>\n",
       "    <tr>\n",
       "      <th>200</th>\n",
       "      <td>Dec'16</td>\n",
       "      <td>26-Dec-16</td>\n",
       "      <td>EC26121667607</td>\n",
       "      <td>Direct</td>\n",
       "      <td>Lost</td>\n",
       "      <td>TAMILNADU</td>\n",
       "      <td>KANCHIPURAM</td>\n",
       "      <td>600048</td>\n",
       "      <td>Renovation</td>\n",
       "      <td>1 to 5</td>\n",
       "      <td>...</td>\n",
       "      <td>NaN</td>\n",
       "      <td>NaN</td>\n",
       "      <td>NaN</td>\n",
       "      <td>NaN</td>\n",
       "      <td>NaN</td>\n",
       "      <td>NaN</td>\n",
       "      <td>NaN</td>\n",
       "      <td>2016-12-26</td>\n",
       "      <td>Dec</td>\n",
       "      <td>2016</td>\n",
       "    </tr>\n",
       "    <tr>\n",
       "      <th>201</th>\n",
       "      <td>Dec'16</td>\n",
       "      <td>26-Dec-16</td>\n",
       "      <td>EC26121667664</td>\n",
       "      <td>Dealer</td>\n",
       "      <td>Won</td>\n",
       "      <td>TAMILNADU</td>\n",
       "      <td>CHENNAI</td>\n",
       "      <td>600004</td>\n",
       "      <td>Renovation</td>\n",
       "      <td>1 to 5</td>\n",
       "      <td>...</td>\n",
       "      <td>Aesthetics &amp; Low Maintenance</td>\n",
       "      <td>1.0</td>\n",
       "      <td>0.0</td>\n",
       "      <td>1.0</td>\n",
       "      <td>0.0</td>\n",
       "      <td>0.0</td>\n",
       "      <td>0.0</td>\n",
       "      <td>2016-12-26</td>\n",
       "      <td>Dec</td>\n",
       "      <td>2016</td>\n",
       "    </tr>\n",
       "    <tr>\n",
       "      <th>202</th>\n",
       "      <td>Dec'16</td>\n",
       "      <td>26-Dec-16</td>\n",
       "      <td>EC26121667722</td>\n",
       "      <td>Direct</td>\n",
       "      <td>Lost</td>\n",
       "      <td>TAMILNADU</td>\n",
       "      <td>THIRUVALLUR</td>\n",
       "      <td>600120</td>\n",
       "      <td>Renovation</td>\n",
       "      <td>6 to 10</td>\n",
       "      <td>...</td>\n",
       "      <td>NaN</td>\n",
       "      <td>NaN</td>\n",
       "      <td>NaN</td>\n",
       "      <td>NaN</td>\n",
       "      <td>NaN</td>\n",
       "      <td>NaN</td>\n",
       "      <td>NaN</td>\n",
       "      <td>2016-12-26</td>\n",
       "      <td>Dec</td>\n",
       "      <td>2016</td>\n",
       "    </tr>\n",
       "    <tr>\n",
       "      <th>203</th>\n",
       "      <td>Dec'16</td>\n",
       "      <td>27-Dec-16</td>\n",
       "      <td>EC27121667825</td>\n",
       "      <td>Direct</td>\n",
       "      <td>Won</td>\n",
       "      <td>TAMILNADU</td>\n",
       "      <td>KANCHIPURAM</td>\n",
       "      <td>600091</td>\n",
       "      <td>New Construction</td>\n",
       "      <td>1 to 5</td>\n",
       "      <td>...</td>\n",
       "      <td>Nil</td>\n",
       "      <td>NaN</td>\n",
       "      <td>NaN</td>\n",
       "      <td>NaN</td>\n",
       "      <td>NaN</td>\n",
       "      <td>NaN</td>\n",
       "      <td>NaN</td>\n",
       "      <td>2016-12-27</td>\n",
       "      <td>Dec</td>\n",
       "      <td>2016</td>\n",
       "    </tr>\n",
       "    <tr>\n",
       "      <th>204</th>\n",
       "      <td>Dec'16</td>\n",
       "      <td>27-Dec-16</td>\n",
       "      <td>EC27121667800</td>\n",
       "      <td>Dealer</td>\n",
       "      <td>Won</td>\n",
       "      <td>TAMILNADU</td>\n",
       "      <td>CHENNAI</td>\n",
       "      <td>600040</td>\n",
       "      <td>Renovation</td>\n",
       "      <td>11 to 20</td>\n",
       "      <td>...</td>\n",
       "      <td>Aesthetics &amp; Low Maintenance</td>\n",
       "      <td>1.0</td>\n",
       "      <td>0.0</td>\n",
       "      <td>1.0</td>\n",
       "      <td>0.0</td>\n",
       "      <td>0.0</td>\n",
       "      <td>0.0</td>\n",
       "      <td>2016-12-27</td>\n",
       "      <td>Dec</td>\n",
       "      <td>2016</td>\n",
       "    </tr>\n",
       "    <tr>\n",
       "      <th>205</th>\n",
       "      <td>Dec'16</td>\n",
       "      <td>28-Dec-16</td>\n",
       "      <td>EC28121668016</td>\n",
       "      <td>Direct</td>\n",
       "      <td>Won</td>\n",
       "      <td>TAMILNADU</td>\n",
       "      <td>CHENNAI</td>\n",
       "      <td>600052</td>\n",
       "      <td>New Construction</td>\n",
       "      <td>21 to 40</td>\n",
       "      <td>...</td>\n",
       "      <td>Nil</td>\n",
       "      <td>NaN</td>\n",
       "      <td>NaN</td>\n",
       "      <td>NaN</td>\n",
       "      <td>NaN</td>\n",
       "      <td>NaN</td>\n",
       "      <td>NaN</td>\n",
       "      <td>2016-12-28</td>\n",
       "      <td>Dec</td>\n",
       "      <td>2016</td>\n",
       "    </tr>\n",
       "    <tr>\n",
       "      <th>206</th>\n",
       "      <td>Dec'16</td>\n",
       "      <td>29-Dec-16</td>\n",
       "      <td>EC1002143224</td>\n",
       "      <td>Direct</td>\n",
       "      <td>Won</td>\n",
       "      <td>TAMILNADU</td>\n",
       "      <td>CHENNAI</td>\n",
       "      <td>600037</td>\n",
       "      <td>Renovation</td>\n",
       "      <td>1 to 5</td>\n",
       "      <td>...</td>\n",
       "      <td>Aesthetics &amp; Low Maintenance</td>\n",
       "      <td>1.0</td>\n",
       "      <td>0.0</td>\n",
       "      <td>1.0</td>\n",
       "      <td>0.0</td>\n",
       "      <td>0.0</td>\n",
       "      <td>0.0</td>\n",
       "      <td>2016-12-29</td>\n",
       "      <td>Dec</td>\n",
       "      <td>2016</td>\n",
       "    </tr>\n",
       "    <tr>\n",
       "      <th>207</th>\n",
       "      <td>Dec'16</td>\n",
       "      <td>30-Dec-16</td>\n",
       "      <td>EC30121668253</td>\n",
       "      <td>Direct</td>\n",
       "      <td>Lost</td>\n",
       "      <td>TAMILNADU</td>\n",
       "      <td>CHENNAI</td>\n",
       "      <td>603202</td>\n",
       "      <td>New Construction</td>\n",
       "      <td>11 to 20</td>\n",
       "      <td>...</td>\n",
       "      <td>NaN</td>\n",
       "      <td>NaN</td>\n",
       "      <td>NaN</td>\n",
       "      <td>NaN</td>\n",
       "      <td>NaN</td>\n",
       "      <td>NaN</td>\n",
       "      <td>NaN</td>\n",
       "      <td>2016-12-30</td>\n",
       "      <td>Dec</td>\n",
       "      <td>2016</td>\n",
       "    </tr>\n",
       "    <tr>\n",
       "      <th>208</th>\n",
       "      <td>Jan'17</td>\n",
       "      <td>1-Jan-17</td>\n",
       "      <td>EC01011768406</td>\n",
       "      <td>Direct</td>\n",
       "      <td>Lost</td>\n",
       "      <td>TAMILNADU</td>\n",
       "      <td>CHENNAI</td>\n",
       "      <td>600061</td>\n",
       "      <td>New Construction</td>\n",
       "      <td>21 to 40</td>\n",
       "      <td>...</td>\n",
       "      <td>NaN</td>\n",
       "      <td>NaN</td>\n",
       "      <td>NaN</td>\n",
       "      <td>NaN</td>\n",
       "      <td>NaN</td>\n",
       "      <td>NaN</td>\n",
       "      <td>NaN</td>\n",
       "      <td>2017-01-01</td>\n",
       "      <td>Jan</td>\n",
       "      <td>2017</td>\n",
       "    </tr>\n",
       "    <tr>\n",
       "      <th>209</th>\n",
       "      <td>Jan'17</td>\n",
       "      <td>2-Jan-17</td>\n",
       "      <td>EC02011768470</td>\n",
       "      <td>Direct</td>\n",
       "      <td>Lost</td>\n",
       "      <td>TAMILNADU</td>\n",
       "      <td>KANCHIPURAM</td>\n",
       "      <td>603202</td>\n",
       "      <td>Renovation</td>\n",
       "      <td>1 to 5</td>\n",
       "      <td>...</td>\n",
       "      <td>NaN</td>\n",
       "      <td>NaN</td>\n",
       "      <td>NaN</td>\n",
       "      <td>NaN</td>\n",
       "      <td>NaN</td>\n",
       "      <td>NaN</td>\n",
       "      <td>NaN</td>\n",
       "      <td>2017-01-02</td>\n",
       "      <td>Jan</td>\n",
       "      <td>2017</td>\n",
       "    </tr>\n",
       "    <tr>\n",
       "      <th>210</th>\n",
       "      <td>Jan'17</td>\n",
       "      <td>2-Jan-17</td>\n",
       "      <td>EC02011768429</td>\n",
       "      <td>Dealer</td>\n",
       "      <td>Lost</td>\n",
       "      <td>TAMILNADU</td>\n",
       "      <td>CHENNAI</td>\n",
       "      <td>600102</td>\n",
       "      <td>Renovation</td>\n",
       "      <td>1 to 5</td>\n",
       "      <td>...</td>\n",
       "      <td>NaN</td>\n",
       "      <td>NaN</td>\n",
       "      <td>NaN</td>\n",
       "      <td>NaN</td>\n",
       "      <td>NaN</td>\n",
       "      <td>NaN</td>\n",
       "      <td>NaN</td>\n",
       "      <td>2017-01-02</td>\n",
       "      <td>Jan</td>\n",
       "      <td>2017</td>\n",
       "    </tr>\n",
       "    <tr>\n",
       "      <th>211</th>\n",
       "      <td>Jan'17</td>\n",
       "      <td>3-Jan-17</td>\n",
       "      <td>EC03011768649</td>\n",
       "      <td>Direct</td>\n",
       "      <td>Lost</td>\n",
       "      <td>TAMILNADU</td>\n",
       "      <td>PONDICHERRY</td>\n",
       "      <td>605501</td>\n",
       "      <td>Renovation</td>\n",
       "      <td>1 to 5</td>\n",
       "      <td>...</td>\n",
       "      <td>NaN</td>\n",
       "      <td>NaN</td>\n",
       "      <td>NaN</td>\n",
       "      <td>NaN</td>\n",
       "      <td>NaN</td>\n",
       "      <td>NaN</td>\n",
       "      <td>NaN</td>\n",
       "      <td>2017-01-03</td>\n",
       "      <td>Jan</td>\n",
       "      <td>2017</td>\n",
       "    </tr>\n",
       "    <tr>\n",
       "      <th>212</th>\n",
       "      <td>Jan'17</td>\n",
       "      <td>3-Jan-17</td>\n",
       "      <td>EC03011768646</td>\n",
       "      <td>Dealer</td>\n",
       "      <td>Lost</td>\n",
       "      <td>TAMILNADU</td>\n",
       "      <td>CHENNAI</td>\n",
       "      <td>600010</td>\n",
       "      <td>New Construction</td>\n",
       "      <td>1 to 5</td>\n",
       "      <td>...</td>\n",
       "      <td>NaN</td>\n",
       "      <td>NaN</td>\n",
       "      <td>NaN</td>\n",
       "      <td>NaN</td>\n",
       "      <td>NaN</td>\n",
       "      <td>NaN</td>\n",
       "      <td>NaN</td>\n",
       "      <td>2017-01-03</td>\n",
       "      <td>Jan</td>\n",
       "      <td>2017</td>\n",
       "    </tr>\n",
       "    <tr>\n",
       "      <th>213</th>\n",
       "      <td>Jan'17</td>\n",
       "      <td>3-Jan-17</td>\n",
       "      <td>EC03011768620</td>\n",
       "      <td>Direct</td>\n",
       "      <td>Lost</td>\n",
       "      <td>TAMILNADU</td>\n",
       "      <td>CHENNAI</td>\n",
       "      <td>600026</td>\n",
       "      <td>Renovation</td>\n",
       "      <td>1 to 5</td>\n",
       "      <td>...</td>\n",
       "      <td>NaN</td>\n",
       "      <td>NaN</td>\n",
       "      <td>NaN</td>\n",
       "      <td>NaN</td>\n",
       "      <td>NaN</td>\n",
       "      <td>NaN</td>\n",
       "      <td>NaN</td>\n",
       "      <td>2017-01-03</td>\n",
       "      <td>Jan</td>\n",
       "      <td>2017</td>\n",
       "    </tr>\n",
       "    <tr>\n",
       "      <th>214</th>\n",
       "      <td>Jan'17</td>\n",
       "      <td>6-Jan-17</td>\n",
       "      <td>EC05011768785</td>\n",
       "      <td>Direct</td>\n",
       "      <td>Lost</td>\n",
       "      <td>TAMILNADU</td>\n",
       "      <td>CHENNAI</td>\n",
       "      <td>600042</td>\n",
       "      <td>Renovation</td>\n",
       "      <td>1 to 5</td>\n",
       "      <td>...</td>\n",
       "      <td>NaN</td>\n",
       "      <td>NaN</td>\n",
       "      <td>NaN</td>\n",
       "      <td>NaN</td>\n",
       "      <td>NaN</td>\n",
       "      <td>NaN</td>\n",
       "      <td>NaN</td>\n",
       "      <td>2017-01-06</td>\n",
       "      <td>Jan</td>\n",
       "      <td>2017</td>\n",
       "    </tr>\n",
       "    <tr>\n",
       "      <th>215</th>\n",
       "      <td>Jan'17</td>\n",
       "      <td>5-Jan-17</td>\n",
       "      <td>EC05011768756</td>\n",
       "      <td>Dealer</td>\n",
       "      <td>Won</td>\n",
       "      <td>TAMILNADU</td>\n",
       "      <td>CHENNAI</td>\n",
       "      <td>600094</td>\n",
       "      <td>Renovation</td>\n",
       "      <td>1 to 5</td>\n",
       "      <td>...</td>\n",
       "      <td>Noise Proof &amp; Better Lighting</td>\n",
       "      <td>0.0</td>\n",
       "      <td>1.0</td>\n",
       "      <td>0.0</td>\n",
       "      <td>0.0</td>\n",
       "      <td>1.0</td>\n",
       "      <td>0.0</td>\n",
       "      <td>2017-01-05</td>\n",
       "      <td>Jan</td>\n",
       "      <td>2017</td>\n",
       "    </tr>\n",
       "    <tr>\n",
       "      <th>216</th>\n",
       "      <td>Jan'17</td>\n",
       "      <td>6-Jan-17</td>\n",
       "      <td>EC06011768979</td>\n",
       "      <td>Dealer</td>\n",
       "      <td>Lost</td>\n",
       "      <td>TAMILNADU</td>\n",
       "      <td>CHENNAI</td>\n",
       "      <td>600024</td>\n",
       "      <td>Renovation</td>\n",
       "      <td>1 to 5</td>\n",
       "      <td>...</td>\n",
       "      <td>NaN</td>\n",
       "      <td>NaN</td>\n",
       "      <td>NaN</td>\n",
       "      <td>NaN</td>\n",
       "      <td>NaN</td>\n",
       "      <td>NaN</td>\n",
       "      <td>NaN</td>\n",
       "      <td>2017-01-06</td>\n",
       "      <td>Jan</td>\n",
       "      <td>2017</td>\n",
       "    </tr>\n",
       "    <tr>\n",
       "      <th>217</th>\n",
       "      <td>Jan'17</td>\n",
       "      <td>9-Jan-17</td>\n",
       "      <td>EC06011769002</td>\n",
       "      <td>Dealer</td>\n",
       "      <td>Lost</td>\n",
       "      <td>TAMILNADU</td>\n",
       "      <td>CHENNAI</td>\n",
       "      <td>600085</td>\n",
       "      <td>New Construction</td>\n",
       "      <td>1 to 5</td>\n",
       "      <td>...</td>\n",
       "      <td>NaN</td>\n",
       "      <td>NaN</td>\n",
       "      <td>NaN</td>\n",
       "      <td>NaN</td>\n",
       "      <td>NaN</td>\n",
       "      <td>NaN</td>\n",
       "      <td>NaN</td>\n",
       "      <td>2017-01-09</td>\n",
       "      <td>Jan</td>\n",
       "      <td>2017</td>\n",
       "    </tr>\n",
       "    <tr>\n",
       "      <th>218</th>\n",
       "      <td>Jan'17</td>\n",
       "      <td>9-Jan-17</td>\n",
       "      <td>EC03081655947</td>\n",
       "      <td>Direct</td>\n",
       "      <td>Won</td>\n",
       "      <td>TAMILNADU</td>\n",
       "      <td>CHENNAI</td>\n",
       "      <td>600041</td>\n",
       "      <td>New Construction</td>\n",
       "      <td>41 to 100</td>\n",
       "      <td>...</td>\n",
       "      <td>Reduce Street Noise &amp; Low Maintenance</td>\n",
       "      <td>0.0</td>\n",
       "      <td>1.0</td>\n",
       "      <td>1.0</td>\n",
       "      <td>0.0</td>\n",
       "      <td>0.0</td>\n",
       "      <td>0.0</td>\n",
       "      <td>2017-01-09</td>\n",
       "      <td>Jan</td>\n",
       "      <td>2017</td>\n",
       "    </tr>\n",
       "    <tr>\n",
       "      <th>219</th>\n",
       "      <td>Jan'17</td>\n",
       "      <td>11-Jan-17</td>\n",
       "      <td>EC11011769465</td>\n",
       "      <td>Direct</td>\n",
       "      <td>Lost</td>\n",
       "      <td>TAMILNADU</td>\n",
       "      <td>CHENNAI</td>\n",
       "      <td>600097</td>\n",
       "      <td>Renovation</td>\n",
       "      <td>1 to 5</td>\n",
       "      <td>...</td>\n",
       "      <td>NaN</td>\n",
       "      <td>NaN</td>\n",
       "      <td>NaN</td>\n",
       "      <td>NaN</td>\n",
       "      <td>NaN</td>\n",
       "      <td>NaN</td>\n",
       "      <td>NaN</td>\n",
       "      <td>2017-01-11</td>\n",
       "      <td>Jan</td>\n",
       "      <td>2017</td>\n",
       "    </tr>\n",
       "    <tr>\n",
       "      <th>220</th>\n",
       "      <td>Jan'17</td>\n",
       "      <td>11-Jan-17</td>\n",
       "      <td>EC11011769490</td>\n",
       "      <td>Dealer</td>\n",
       "      <td>Lost</td>\n",
       "      <td>TAMILNADU</td>\n",
       "      <td>CHENNAI</td>\n",
       "      <td>600023</td>\n",
       "      <td>Renovation</td>\n",
       "      <td>1 to 5</td>\n",
       "      <td>...</td>\n",
       "      <td>NaN</td>\n",
       "      <td>NaN</td>\n",
       "      <td>NaN</td>\n",
       "      <td>NaN</td>\n",
       "      <td>NaN</td>\n",
       "      <td>NaN</td>\n",
       "      <td>NaN</td>\n",
       "      <td>2017-01-11</td>\n",
       "      <td>Jan</td>\n",
       "      <td>2017</td>\n",
       "    </tr>\n",
       "    <tr>\n",
       "      <th>221</th>\n",
       "      <td>Jan'17</td>\n",
       "      <td>13-Jan-17</td>\n",
       "      <td>EC13011769738</td>\n",
       "      <td>Dealer</td>\n",
       "      <td>Won</td>\n",
       "      <td>TAMILNADU</td>\n",
       "      <td>CHENNAI</td>\n",
       "      <td>600020</td>\n",
       "      <td>Renovation</td>\n",
       "      <td>1 to 5</td>\n",
       "      <td>...</td>\n",
       "      <td>Low Maintenance</td>\n",
       "      <td>0.0</td>\n",
       "      <td>0.0</td>\n",
       "      <td>1.0</td>\n",
       "      <td>0.0</td>\n",
       "      <td>0.0</td>\n",
       "      <td>0.0</td>\n",
       "      <td>2017-01-13</td>\n",
       "      <td>Jan</td>\n",
       "      <td>2017</td>\n",
       "    </tr>\n",
       "    <tr>\n",
       "      <th>222</th>\n",
       "      <td>Jan'17</td>\n",
       "      <td>18-Jan-17</td>\n",
       "      <td>EC18011770185</td>\n",
       "      <td>Direct</td>\n",
       "      <td>Won</td>\n",
       "      <td>TAMILNADU</td>\n",
       "      <td>KANCHIPURAM</td>\n",
       "      <td>600059</td>\n",
       "      <td>Renovation</td>\n",
       "      <td>1 to 5</td>\n",
       "      <td>...</td>\n",
       "      <td>Nil</td>\n",
       "      <td>NaN</td>\n",
       "      <td>NaN</td>\n",
       "      <td>NaN</td>\n",
       "      <td>NaN</td>\n",
       "      <td>NaN</td>\n",
       "      <td>NaN</td>\n",
       "      <td>2017-01-18</td>\n",
       "      <td>Jan</td>\n",
       "      <td>2017</td>\n",
       "    </tr>\n",
       "    <tr>\n",
       "      <th>223</th>\n",
       "      <td>Jan'17</td>\n",
       "      <td>18-Jan-17</td>\n",
       "      <td>EC18011770221</td>\n",
       "      <td>Dealer</td>\n",
       "      <td>Lost</td>\n",
       "      <td>TAMILNADU</td>\n",
       "      <td>CHENNAI</td>\n",
       "      <td>600020</td>\n",
       "      <td>Renovation</td>\n",
       "      <td>6 to 10</td>\n",
       "      <td>...</td>\n",
       "      <td>NaN</td>\n",
       "      <td>NaN</td>\n",
       "      <td>NaN</td>\n",
       "      <td>NaN</td>\n",
       "      <td>NaN</td>\n",
       "      <td>NaN</td>\n",
       "      <td>NaN</td>\n",
       "      <td>2017-01-18</td>\n",
       "      <td>Jan</td>\n",
       "      <td>2017</td>\n",
       "    </tr>\n",
       "    <tr>\n",
       "      <th>224</th>\n",
       "      <td>Jan'17</td>\n",
       "      <td>21-Jan-17</td>\n",
       "      <td>EC21011770512</td>\n",
       "      <td>Dealer</td>\n",
       "      <td>Lost</td>\n",
       "      <td>TAMILNADU</td>\n",
       "      <td>CHENNAI</td>\n",
       "      <td>600014</td>\n",
       "      <td>Renovation</td>\n",
       "      <td>11 to 20</td>\n",
       "      <td>...</td>\n",
       "      <td>NaN</td>\n",
       "      <td>NaN</td>\n",
       "      <td>NaN</td>\n",
       "      <td>NaN</td>\n",
       "      <td>NaN</td>\n",
       "      <td>NaN</td>\n",
       "      <td>NaN</td>\n",
       "      <td>2017-01-21</td>\n",
       "      <td>Jan</td>\n",
       "      <td>2017</td>\n",
       "    </tr>\n",
       "    <tr>\n",
       "      <th>225</th>\n",
       "      <td>Jan'17</td>\n",
       "      <td>23-Jan-17</td>\n",
       "      <td>EC24011770882</td>\n",
       "      <td>Direct</td>\n",
       "      <td>Won</td>\n",
       "      <td>TAMILNADU</td>\n",
       "      <td>CHENNAI</td>\n",
       "      <td>600015</td>\n",
       "      <td>Renovation</td>\n",
       "      <td>1 to 5</td>\n",
       "      <td>...</td>\n",
       "      <td>Low Maintenance</td>\n",
       "      <td>0.0</td>\n",
       "      <td>0.0</td>\n",
       "      <td>1.0</td>\n",
       "      <td>0.0</td>\n",
       "      <td>0.0</td>\n",
       "      <td>0.0</td>\n",
       "      <td>2017-01-23</td>\n",
       "      <td>Jan</td>\n",
       "      <td>2017</td>\n",
       "    </tr>\n",
       "    <tr>\n",
       "      <th>226</th>\n",
       "      <td>Jan'17</td>\n",
       "      <td>26-Jan-17</td>\n",
       "      <td>EC26121667587</td>\n",
       "      <td>Direct</td>\n",
       "      <td>Lost</td>\n",
       "      <td>TAMILNADU</td>\n",
       "      <td>CHENNAI</td>\n",
       "      <td>600119</td>\n",
       "      <td>Renovation</td>\n",
       "      <td>1 to 5</td>\n",
       "      <td>...</td>\n",
       "      <td>NaN</td>\n",
       "      <td>NaN</td>\n",
       "      <td>NaN</td>\n",
       "      <td>NaN</td>\n",
       "      <td>NaN</td>\n",
       "      <td>NaN</td>\n",
       "      <td>NaN</td>\n",
       "      <td>2017-01-26</td>\n",
       "      <td>Jan</td>\n",
       "      <td>2017</td>\n",
       "    </tr>\n",
       "    <tr>\n",
       "      <th>227</th>\n",
       "      <td>Jan'17</td>\n",
       "      <td>27-Jan-17</td>\n",
       "      <td>EC27011771169</td>\n",
       "      <td>Dealer</td>\n",
       "      <td>Lost</td>\n",
       "      <td>TAMILNADU</td>\n",
       "      <td>CHENNAI</td>\n",
       "      <td>600082</td>\n",
       "      <td>Renovation</td>\n",
       "      <td>1 to 5</td>\n",
       "      <td>...</td>\n",
       "      <td>NaN</td>\n",
       "      <td>NaN</td>\n",
       "      <td>NaN</td>\n",
       "      <td>NaN</td>\n",
       "      <td>NaN</td>\n",
       "      <td>NaN</td>\n",
       "      <td>NaN</td>\n",
       "      <td>2017-01-27</td>\n",
       "      <td>Jan</td>\n",
       "      <td>2017</td>\n",
       "    </tr>\n",
       "    <tr>\n",
       "      <th>228</th>\n",
       "      <td>Jan'17</td>\n",
       "      <td>27-Jan-17</td>\n",
       "      <td>EC27011771160</td>\n",
       "      <td>Direct</td>\n",
       "      <td>Lost</td>\n",
       "      <td>TAMILNADU</td>\n",
       "      <td>KANCHIPURAM</td>\n",
       "      <td>600089</td>\n",
       "      <td>New Construction</td>\n",
       "      <td>1 to 5</td>\n",
       "      <td>...</td>\n",
       "      <td>NaN</td>\n",
       "      <td>NaN</td>\n",
       "      <td>NaN</td>\n",
       "      <td>NaN</td>\n",
       "      <td>NaN</td>\n",
       "      <td>NaN</td>\n",
       "      <td>NaN</td>\n",
       "      <td>2017-01-27</td>\n",
       "      <td>Jan</td>\n",
       "      <td>2017</td>\n",
       "    </tr>\n",
       "  </tbody>\n",
       "</table>\n",
       "<p>229 rows × 43 columns</p>\n",
       "</div>"
      ],
      "text/plain": [
       "        Month Enquiry_Date      Enquiry_Id Allocation_Status Status  \\\n",
       "0    April'16     2-Apr-16   EC02041646800            Dealer    Won   \n",
       "1    April'16     8-Apr-16   EC08041647157            Dealer   Lost   \n",
       "2    April'16     8-Apr-16   EC08041647130            Dealer   Lost   \n",
       "3    April'16     9-Apr-16   EC09041647202            Direct   Lost   \n",
       "4    April'16    11-Apr-16   EC11041647360            Direct    Won   \n",
       "5    April'16    11-Apr-16   EC11041647280            Dealer   Lost   \n",
       "6    April'16    12-Apr-16   EC12041647460            Dealer   Lost   \n",
       "7    April'16    12-Apr-16   EC12041647402            Dealer   Lost   \n",
       "8    April'16    14-Apr-16   EC13041647531            Dealer   Lost   \n",
       "9    April'16    15-Apr-16   EC15041647749            Dealer   Lost   \n",
       "10   April'16    15-Apr-16   EC15041647740            Dealer   Lost   \n",
       "11   April'16    17-Apr-16   EC17041647818            Dealer   Lost   \n",
       "12   April'16    17-Apr-16   EC17041647824            Dealer    Won   \n",
       "13   April'16    18-Apr-16   EC18041647862            Dealer   Lost   \n",
       "14   April'16    18-Apr-16   EC18041647914            Dealer    Won   \n",
       "15   April'16    19-Apr-16   EC19041648005            Dealer   Lost   \n",
       "16   April'16    20-Apr-16   EC20041648053            Dealer   Lost   \n",
       "17   April'16    21-Apr-16   EC21041648143            Dealer    Won   \n",
       "18   April'16    21-Apr-16   EC21041648139            Dealer    Won   \n",
       "19   April'16    22-Apr-16   EC22041648210            Dealer   Lost   \n",
       "20   April'16    22-Apr-16   EC21041648139            Dealer    Won   \n",
       "21   April'16    25-Apr-16   EC06101535268            Dealer   Lost   \n",
       "22   April'16    25-Apr-16   EC25041648426            Dealer   Lost   \n",
       "23   April'16    26-Apr-16    EC2002143733            Dealer   Lost   \n",
       "24   April'16    27-Apr-16   EC27041648574            Dealer   Lost   \n",
       "25   April'16    28-Apr-16   EC25041648424            Dealer   Lost   \n",
       "26   April'16    30-Apr-16   EC30041648800            Dealer   Lost   \n",
       "27    June'16     4-Jun-16   EC04061651354            Dealer   Lost   \n",
       "28    June'16     8-Jun-16   EC08061651611            Direct   Lost   \n",
       "29    June'16     9-Jun-16   EC09061651686            Dealer   Lost   \n",
       "..        ...          ...             ...               ...    ...   \n",
       "199    Dec'16    25-Dec-16   EC25121667555            Direct    Won   \n",
       "200    Dec'16    26-Dec-16   EC26121667607            Direct   Lost   \n",
       "201    Dec'16    26-Dec-16   EC26121667664            Dealer    Won   \n",
       "202    Dec'16    26-Dec-16   EC26121667722            Direct   Lost   \n",
       "203    Dec'16    27-Dec-16   EC27121667825            Direct    Won   \n",
       "204    Dec'16    27-Dec-16   EC27121667800            Dealer    Won   \n",
       "205    Dec'16    28-Dec-16   EC28121668016            Direct    Won   \n",
       "206    Dec'16    29-Dec-16    EC1002143224            Direct    Won   \n",
       "207    Dec'16    30-Dec-16   EC30121668253            Direct   Lost   \n",
       "208    Jan'17     1-Jan-17   EC01011768406            Direct   Lost   \n",
       "209    Jan'17     2-Jan-17   EC02011768470            Direct   Lost   \n",
       "210    Jan'17     2-Jan-17   EC02011768429            Dealer   Lost   \n",
       "211    Jan'17     3-Jan-17   EC03011768649            Direct   Lost   \n",
       "212    Jan'17     3-Jan-17   EC03011768646            Dealer   Lost   \n",
       "213    Jan'17     3-Jan-17   EC03011768620            Direct   Lost   \n",
       "214    Jan'17     6-Jan-17   EC05011768785            Direct   Lost   \n",
       "215    Jan'17     5-Jan-17   EC05011768756            Dealer    Won   \n",
       "216    Jan'17     6-Jan-17   EC06011768979            Dealer   Lost   \n",
       "217    Jan'17     9-Jan-17   EC06011769002            Dealer   Lost   \n",
       "218    Jan'17     9-Jan-17   EC03081655947            Direct    Won   \n",
       "219    Jan'17    11-Jan-17   EC11011769465            Direct   Lost   \n",
       "220    Jan'17    11-Jan-17   EC11011769490            Dealer   Lost   \n",
       "221    Jan'17    13-Jan-17   EC13011769738            Dealer    Won   \n",
       "222    Jan'17    18-Jan-17   EC18011770185            Direct    Won   \n",
       "223    Jan'17    18-Jan-17   EC18011770221            Dealer   Lost   \n",
       "224    Jan'17    21-Jan-17   EC21011770512            Dealer   Lost   \n",
       "225    Jan'17    23-Jan-17   EC24011770882            Direct    Won   \n",
       "226    Jan'17    26-Jan-17   EC26121667587            Direct   Lost   \n",
       "227    Jan'17    27-Jan-17   EC27011771169            Dealer   Lost   \n",
       "228    Jan'17    27-Jan-17   EC27011771160            Direct   Lost   \n",
       "\n",
       "         State         City  Pincode   Type_of_Project No_of_Windows  ...  \\\n",
       "0    TAMILNADU      CHENNAI   600008        Renovation       6 to 10  ...   \n",
       "1    TAMILNADU      CHENNAI   600042  New Construction       6 to 10  ...   \n",
       "2    TAMILNADU      CHENNAI   600015  New Construction        1 to 5  ...   \n",
       "3    TAMILNADU  KANCHIPURAM   600075  New Construction      21 to 40  ...   \n",
       "4    TAMILNADU      CHENNAI   600041        Renovation       6 to 10  ...   \n",
       "5    TAMILNADU      CHENNAI   600056        Renovation        1 to 5  ...   \n",
       "6    TAMILNADU      CHENNAI   600042  New Construction      11 to 20  ...   \n",
       "7    TAMILNADU      VELLORE   635751        Renovation       6 to 10  ...   \n",
       "8    TAMILNADU      CHENNAI   600006        Renovation        1 to 5  ...   \n",
       "9    TAMILNADU      CHENNAI   600113  New Construction       6 to 10  ...   \n",
       "10   TAMILNADU      CHENNAI   600107  New Construction        1 to 5  ...   \n",
       "11   TAMILNADU      CHENNAI   600041  New Construction     41 to 100  ...   \n",
       "12   TAMILNADU      CHENNAI   600028  New Construction        1 to 5  ...   \n",
       "13   TAMILNADU      CHENNAI   600092        Renovation        1 to 5  ...   \n",
       "14   TAMILNADU      CHENNAI   600020  New Construction       6 to 10  ...   \n",
       "15   TAMILNADU      CHENNAI   600086        Renovation        1 to 5  ...   \n",
       "16   TAMILNADU      CHENNAI   600008        Renovation        1 to 5  ...   \n",
       "17   TAMILNADU      CHENNAI   600029        Renovation      21 to 40  ...   \n",
       "18   TAMILNADU      CHENNAI   600078  New Construction       6 to 10  ...   \n",
       "19   TAMILNADU      CHENNAI   600040        Renovation        1 to 5  ...   \n",
       "20   TAMILNADU      CHENNAI   600078        Renovation       6 to 10  ...   \n",
       "21   TAMILNADU      CHENNAI   600010        Renovation       6 to 10  ...   \n",
       "22   TAMILNADU      CHENNAI   600035        Renovation        1 to 5  ...   \n",
       "23   TAMILNADU      CHENNAI   600004  New Construction        1 to 5  ...   \n",
       "24   TAMILNADU      CHENNAI   600020        Renovation        1 to 5  ...   \n",
       "25   TAMILNADU      CHENNAI   600077  New Construction      11 to 20  ...   \n",
       "26   TAMILNADU      CHENNAI   600011        Renovation        1 to 5  ...   \n",
       "27   TAMILNADU  THIRUVALLUR   600037        Renovation        1 to 5  ...   \n",
       "28   TAMILNADU      CHENNAI   600034  New Construction      11 to 20  ...   \n",
       "29   TAMILNADU      VELLORE   631052  New Construction       6 to 10  ...   \n",
       "..         ...          ...      ...               ...           ...  ...   \n",
       "199  TAMILNADU      CHENNAI   600005        Renovation       6 to 10  ...   \n",
       "200  TAMILNADU  KANCHIPURAM   600048        Renovation        1 to 5  ...   \n",
       "201  TAMILNADU      CHENNAI   600004        Renovation        1 to 5  ...   \n",
       "202  TAMILNADU  THIRUVALLUR   600120        Renovation       6 to 10  ...   \n",
       "203  TAMILNADU  KANCHIPURAM   600091  New Construction        1 to 5  ...   \n",
       "204  TAMILNADU      CHENNAI   600040        Renovation      11 to 20  ...   \n",
       "205  TAMILNADU      CHENNAI   600052  New Construction      21 to 40  ...   \n",
       "206  TAMILNADU      CHENNAI   600037        Renovation        1 to 5  ...   \n",
       "207  TAMILNADU      CHENNAI   603202  New Construction      11 to 20  ...   \n",
       "208  TAMILNADU      CHENNAI   600061  New Construction      21 to 40  ...   \n",
       "209  TAMILNADU  KANCHIPURAM   603202        Renovation        1 to 5  ...   \n",
       "210  TAMILNADU      CHENNAI   600102        Renovation        1 to 5  ...   \n",
       "211  TAMILNADU  PONDICHERRY   605501        Renovation        1 to 5  ...   \n",
       "212  TAMILNADU      CHENNAI   600010  New Construction        1 to 5  ...   \n",
       "213  TAMILNADU      CHENNAI   600026        Renovation        1 to 5  ...   \n",
       "214  TAMILNADU      CHENNAI   600042        Renovation        1 to 5  ...   \n",
       "215  TAMILNADU      CHENNAI   600094        Renovation        1 to 5  ...   \n",
       "216  TAMILNADU      CHENNAI   600024        Renovation        1 to 5  ...   \n",
       "217  TAMILNADU      CHENNAI   600085  New Construction        1 to 5  ...   \n",
       "218  TAMILNADU      CHENNAI   600041  New Construction     41 to 100  ...   \n",
       "219  TAMILNADU      CHENNAI   600097        Renovation        1 to 5  ...   \n",
       "220  TAMILNADU      CHENNAI   600023        Renovation        1 to 5  ...   \n",
       "221  TAMILNADU      CHENNAI   600020        Renovation        1 to 5  ...   \n",
       "222  TAMILNADU  KANCHIPURAM   600059        Renovation        1 to 5  ...   \n",
       "223  TAMILNADU      CHENNAI   600020        Renovation       6 to 10  ...   \n",
       "224  TAMILNADU      CHENNAI   600014        Renovation      11 to 20  ...   \n",
       "225  TAMILNADU      CHENNAI   600015        Renovation        1 to 5  ...   \n",
       "226  TAMILNADU      CHENNAI   600119        Renovation        1 to 5  ...   \n",
       "227  TAMILNADU      CHENNAI   600082        Renovation        1 to 5  ...   \n",
       "228  TAMILNADU  KANCHIPURAM   600089  New Construction        1 to 5  ...   \n",
       "\n",
       "                                  Benefits Aesthetics Reduce_Street_Noise  \\\n",
       "0                Aesthetics & Street Noise        1.0                 1.0   \n",
       "1                                      NaN        NaN                 NaN   \n",
       "2                                      NaN        NaN                 NaN   \n",
       "3                                      NaN        NaN                 NaN   \n",
       "4                    Reduce AC Energy Cost        0.0                 0.0   \n",
       "5                                      NaN        NaN                 NaN   \n",
       "6                                      NaN        NaN                 NaN   \n",
       "7                                      NaN        NaN                 NaN   \n",
       "8                                      NaN        NaN                 NaN   \n",
       "9                                      NaN        NaN                 NaN   \n",
       "10                                     NaN        NaN                 NaN   \n",
       "11                                     NaN        NaN                 NaN   \n",
       "12                                     Nil        NaN                 NaN   \n",
       "13                                     NaN        NaN                 NaN   \n",
       "14    Reduce AC Energy Cost & Street Noise        0.0                 1.0   \n",
       "15                                     NaN        NaN                 NaN   \n",
       "16                                     NaN        NaN                 NaN   \n",
       "17    Reduce AC Energy Cost & Street Noise        0.0                 1.0   \n",
       "18                     Reduce Street Noise        0.0                 1.0   \n",
       "19                                     NaN        NaN                 NaN   \n",
       "20                     Reduce Street Noise        0.0                 1.0   \n",
       "21                                     NaN        NaN                 NaN   \n",
       "22                                     NaN        NaN                 NaN   \n",
       "23                                     NaN        NaN                 NaN   \n",
       "24                                     NaN        NaN                 NaN   \n",
       "25                                     NaN        NaN                 NaN   \n",
       "26                                     NaN        NaN                 NaN   \n",
       "27                                     NaN        NaN                 NaN   \n",
       "28                                     NaN        NaN                 NaN   \n",
       "29                                     NaN        NaN                 NaN   \n",
       "..                                     ...        ...                 ...   \n",
       "199           Aesthetics & Low Maintenance        1.0                 0.0   \n",
       "200                                    NaN        NaN                 NaN   \n",
       "201           Aesthetics & Low Maintenance        1.0                 0.0   \n",
       "202                                    NaN        NaN                 NaN   \n",
       "203                                    Nil        NaN                 NaN   \n",
       "204           Aesthetics & Low Maintenance        1.0                 0.0   \n",
       "205                                    Nil        NaN                 NaN   \n",
       "206           Aesthetics & Low Maintenance        1.0                 0.0   \n",
       "207                                    NaN        NaN                 NaN   \n",
       "208                                    NaN        NaN                 NaN   \n",
       "209                                    NaN        NaN                 NaN   \n",
       "210                                    NaN        NaN                 NaN   \n",
       "211                                    NaN        NaN                 NaN   \n",
       "212                                    NaN        NaN                 NaN   \n",
       "213                                    NaN        NaN                 NaN   \n",
       "214                                    NaN        NaN                 NaN   \n",
       "215          Noise Proof & Better Lighting        0.0                 1.0   \n",
       "216                                    NaN        NaN                 NaN   \n",
       "217                                    NaN        NaN                 NaN   \n",
       "218  Reduce Street Noise & Low Maintenance        0.0                 1.0   \n",
       "219                                    NaN        NaN                 NaN   \n",
       "220                                    NaN        NaN                 NaN   \n",
       "221                        Low Maintenance        0.0                 0.0   \n",
       "222                                    Nil        NaN                 NaN   \n",
       "223                                    NaN        NaN                 NaN   \n",
       "224                                    NaN        NaN                 NaN   \n",
       "225                        Low Maintenance        0.0                 0.0   \n",
       "226                                    NaN        NaN                 NaN   \n",
       "227                                    NaN        NaN                 NaN   \n",
       "228                                    NaN        NaN                 NaN   \n",
       "\n",
       "    Low_Maintenance Monsoon_Proof Better_Lighting Reduce_AC_Energy_Cost  \\\n",
       "0               0.0           0.0             0.0                   0.0   \n",
       "1               NaN           NaN             NaN                   NaN   \n",
       "2               NaN           NaN             NaN                   NaN   \n",
       "3               NaN           NaN             NaN                   NaN   \n",
       "4               0.0           0.0             0.0                   1.0   \n",
       "5               NaN           NaN             NaN                   NaN   \n",
       "6               NaN           NaN             NaN                   NaN   \n",
       "7               NaN           NaN             NaN                   NaN   \n",
       "8               NaN           NaN             NaN                   NaN   \n",
       "9               NaN           NaN             NaN                   NaN   \n",
       "10              NaN           NaN             NaN                   NaN   \n",
       "11              NaN           NaN             NaN                   NaN   \n",
       "12              NaN           NaN             NaN                   NaN   \n",
       "13              NaN           NaN             NaN                   NaN   \n",
       "14              0.0           0.0             0.0                   1.0   \n",
       "15              NaN           NaN             NaN                   NaN   \n",
       "16              NaN           NaN             NaN                   NaN   \n",
       "17              0.0           0.0             0.0                   1.0   \n",
       "18              0.0           0.0             0.0                   0.0   \n",
       "19              NaN           NaN             NaN                   NaN   \n",
       "20              0.0           0.0             0.0                   0.0   \n",
       "21              NaN           NaN             NaN                   NaN   \n",
       "22              NaN           NaN             NaN                   NaN   \n",
       "23              NaN           NaN             NaN                   NaN   \n",
       "24              NaN           NaN             NaN                   NaN   \n",
       "25              NaN           NaN             NaN                   NaN   \n",
       "26              NaN           NaN             NaN                   NaN   \n",
       "27              NaN           NaN             NaN                   NaN   \n",
       "28              NaN           NaN             NaN                   NaN   \n",
       "29              NaN           NaN             NaN                   NaN   \n",
       "..              ...           ...             ...                   ...   \n",
       "199             1.0           0.0             0.0                   0.0   \n",
       "200             NaN           NaN             NaN                   NaN   \n",
       "201             1.0           0.0             0.0                   0.0   \n",
       "202             NaN           NaN             NaN                   NaN   \n",
       "203             NaN           NaN             NaN                   NaN   \n",
       "204             1.0           0.0             0.0                   0.0   \n",
       "205             NaN           NaN             NaN                   NaN   \n",
       "206             1.0           0.0             0.0                   0.0   \n",
       "207             NaN           NaN             NaN                   NaN   \n",
       "208             NaN           NaN             NaN                   NaN   \n",
       "209             NaN           NaN             NaN                   NaN   \n",
       "210             NaN           NaN             NaN                   NaN   \n",
       "211             NaN           NaN             NaN                   NaN   \n",
       "212             NaN           NaN             NaN                   NaN   \n",
       "213             NaN           NaN             NaN                   NaN   \n",
       "214             NaN           NaN             NaN                   NaN   \n",
       "215             0.0           0.0             1.0                   0.0   \n",
       "216             NaN           NaN             NaN                   NaN   \n",
       "217             NaN           NaN             NaN                   NaN   \n",
       "218             1.0           0.0             0.0                   0.0   \n",
       "219             NaN           NaN             NaN                   NaN   \n",
       "220             NaN           NaN             NaN                   NaN   \n",
       "221             1.0           0.0             0.0                   0.0   \n",
       "222             NaN           NaN             NaN                   NaN   \n",
       "223             NaN           NaN             NaN                   NaN   \n",
       "224             NaN           NaN             NaN                   NaN   \n",
       "225             1.0           0.0             0.0                   0.0   \n",
       "226             NaN           NaN             NaN                   NaN   \n",
       "227             NaN           NaN             NaN                   NaN   \n",
       "228             NaN           NaN             NaN                   NaN   \n",
       "\n",
       "          Year month  year  \n",
       "0   2016-04-02   Apr  2016  \n",
       "1   2016-04-08   Apr  2016  \n",
       "2   2016-04-08   Apr  2016  \n",
       "3   2016-04-09   Apr  2016  \n",
       "4   2016-04-11   Apr  2016  \n",
       "5   2016-04-11   Apr  2016  \n",
       "6   2016-04-12   Apr  2016  \n",
       "7   2016-04-12   Apr  2016  \n",
       "8   2016-04-14   Apr  2016  \n",
       "9   2016-04-15   Apr  2016  \n",
       "10  2016-04-15   Apr  2016  \n",
       "11  2016-04-17   Apr  2016  \n",
       "12  2016-04-17   Apr  2016  \n",
       "13  2016-04-18   Apr  2016  \n",
       "14  2016-04-18   Apr  2016  \n",
       "15  2016-04-19   Apr  2016  \n",
       "16  2016-04-20   Apr  2016  \n",
       "17  2016-04-21   Apr  2016  \n",
       "18  2016-04-21   Apr  2016  \n",
       "19  2016-04-22   Apr  2016  \n",
       "20  2016-04-22   Apr  2016  \n",
       "21  2016-04-25   Apr  2016  \n",
       "22  2016-04-25   Apr  2016  \n",
       "23  2016-04-26   Apr  2016  \n",
       "24  2016-04-27   Apr  2016  \n",
       "25  2016-04-28   Apr  2016  \n",
       "26  2016-04-30   Apr  2016  \n",
       "27  2016-06-04   Jun  2016  \n",
       "28  2016-06-08   Jun  2016  \n",
       "29  2016-06-09   Jun  2016  \n",
       "..         ...   ...   ...  \n",
       "199 2016-12-25   Dec  2016  \n",
       "200 2016-12-26   Dec  2016  \n",
       "201 2016-12-26   Dec  2016  \n",
       "202 2016-12-26   Dec  2016  \n",
       "203 2016-12-27   Dec  2016  \n",
       "204 2016-12-27   Dec  2016  \n",
       "205 2016-12-28   Dec  2016  \n",
       "206 2016-12-29   Dec  2016  \n",
       "207 2016-12-30   Dec  2016  \n",
       "208 2017-01-01   Jan  2017  \n",
       "209 2017-01-02   Jan  2017  \n",
       "210 2017-01-02   Jan  2017  \n",
       "211 2017-01-03   Jan  2017  \n",
       "212 2017-01-03   Jan  2017  \n",
       "213 2017-01-03   Jan  2017  \n",
       "214 2017-01-06   Jan  2017  \n",
       "215 2017-01-05   Jan  2017  \n",
       "216 2017-01-06   Jan  2017  \n",
       "217 2017-01-09   Jan  2017  \n",
       "218 2017-01-09   Jan  2017  \n",
       "219 2017-01-11   Jan  2017  \n",
       "220 2017-01-11   Jan  2017  \n",
       "221 2017-01-13   Jan  2017  \n",
       "222 2017-01-18   Jan  2017  \n",
       "223 2017-01-18   Jan  2017  \n",
       "224 2017-01-21   Jan  2017  \n",
       "225 2017-01-23   Jan  2017  \n",
       "226 2017-01-26   Jan  2017  \n",
       "227 2017-01-27   Jan  2017  \n",
       "228 2017-01-27   Jan  2017  \n",
       "\n",
       "[229 rows x 43 columns]"
      ]
     },
     "execution_count": 49,
     "metadata": {},
     "output_type": "execute_result"
    }
   ],
   "source": [
    "data_new"
   ]
  },
  {
   "cell_type": "code",
   "execution_count": 50,
   "metadata": {},
   "outputs": [],
   "source": [
    "data1 = data_new.copy()"
   ]
  },
  {
   "cell_type": "code",
   "execution_count": 51,
   "metadata": {},
   "outputs": [],
   "source": [
    "data1.shape\n",
    "df=data1"
   ]
  },
  {
   "cell_type": "markdown",
   "metadata": {},
   "source": [
    "### Percentage of missing values in a column"
   ]
  },
  {
   "cell_type": "code",
   "execution_count": 52,
   "metadata": {},
   "outputs": [
    {
     "name": "stdout",
     "output_type": "stream",
     "text": [
      "Missing percentage in  Date of Appointment (DD/MM/YY)  is  16.16\n",
      "Missing percentage in  Second Action-Customer Meeting  is  16.16\n",
      "Missing percentage in  Date-DD/MM/YY.1  is  16.16\n",
      "Missing percentage in  Second-Action-Call-Status  is  16.59\n",
      "Missing percentage in  Third-Action-Quote-Given  is  17.47\n",
      "Missing percentage in  Date-DD/MM/YY.2  is  17.9\n",
      "Missing percentage in  Q-Val.(Rs.Lac)  is  20.09\n",
      "Missing percentage in  Quote-QTY  is  20.09\n",
      "Missing percentage in  Date-DD/MM/YY.3  is  79.04\n",
      "Missing percentage in  Order-Val.(Rs.Lac)  is  79.04\n",
      "Missing percentage in  Quote_ID(as_per_match_to_CCC_Records)  is  49.34\n",
      "Missing percentage in  Remarks-Brand-and-value-if-lost-to-UPVC  is  46.29\n",
      "Missing percentage in  Second-Action-Call-Status.1  is  100.0\n",
      "Missing percentage in  Remarks  is  25.33\n",
      "Missing percentage in  Benefits  is  76.86\n",
      "Missing percentage in  Aesthetics  is  83.84\n",
      "Missing percentage in  Reduce_Street_Noise  is  83.84\n",
      "Missing percentage in  Low_Maintenance  is  83.84\n",
      "Missing percentage in  Monsoon_Proof  is  83.84\n",
      "Missing percentage in  Better_Lighting  is  83.84\n",
      "Missing percentage in  Reduce_AC_Energy_Cost  is  83.84\n"
     ]
    }
   ],
   "source": [
    "\n",
    "for col in data1.columns:\n",
    "    if data1[col].isnull().sum():\n",
    "        print(\"Missing percentage in \",col,\" is \",round((data1[col].isnull().sum())*100/data1.shape[0],2))"
   ]
  },
  {
   "cell_type": "code",
   "execution_count": null,
   "metadata": {},
   "outputs": [],
   "source": []
  },
  {
   "cell_type": "markdown",
   "metadata": {},
   "source": [
    "### Plot 14: Percentage of missing values in a column"
   ]
  },
  {
   "cell_type": "code",
   "execution_count": 53,
   "metadata": {},
   "outputs": [
    {
     "data": {
      "image/png": "[encoded data removed]",
      "text/plain": [
       "<Figure size 1440x288 with 1 Axes>"
      ]
     },
     "metadata": {
      "needs_background": "light"
     },
     "output_type": "display_data"
    }
   ],
   "source": [
    "NA_col = data1.isnull().sum()\n",
    "NA_col = NA_col[NA_col.values >(0.5*len(data1))]\n",
    "plt.figure(figsize=(20,4))\n",
    "NA_col.plot(kind='bar')\n",
    "plt.title('List of Columns & NA counts where NA values are more than 50%')\n",
    "plt.show()"
   ]
  },
  {
   "cell_type": "markdown",
   "metadata": {},
   "source": [
    "Observation:\n",
    "1. One can see visually missing value's >50% "
   ]
  },
  {
   "cell_type": "raw",
   "metadata": {},
   "source": [
    "Note: \n",
    "- Though we can drop missing values > 50% ,one should know whether is it mandatory to drop the column or not, if dropped must explain why?\n",
    "- Rather than dropping let's see what actually each column say's .\n",
    "- we are not dropping order_qty,order_values they are the prime factor in business there should be valid reason while dropping a column"
   ]
  },
  {
   "cell_type": "markdown",
   "metadata": {},
   "source": [
    "### Various types of imputation"
   ]
  },
  {
   "cell_type": "raw",
   "metadata": {},
   "source": [
    "1.\tMean, Median, Mode &  2. Backward Imputation 3. Forward Imputation 4. Subjective Imputation."
   ]
  },
  {
   "cell_type": "raw",
   "metadata": {},
   "source": [
    "DATA['Benefits'].fillna((data['product_code'].mode()), inplace=True)...I.E CATEGORIAL DATA WE DO MODE"
   ]
  },
  {
   "cell_type": "raw",
   "metadata": {},
   "source": [
    "DATA['Q-Val.(Rs.Lac)'].fillna((data['Q-Val.(Rs.Lac)'].mean), inplace=True)...I.E numerical  DATA WE DO mean which ha no outlier's"
   ]
  },
  {
   "cell_type": "raw",
   "metadata": {},
   "source": [
    "DATA['Q-Val.(Rs.Lac)'].fillna((data['Q-Val.(Rs.Lac)'].median), inplace=True)...I.E numerical  DATA WE DO median which has outlier's"
   ]
  },
  {
   "cell_type": "raw",
   "metadata": {},
   "source": [
    "UNTIL WE UNDERSTAND DATA WE CAN'T IMPUTE MISSING VALUE'S."
   ]
  },
  {
   "cell_type": "code",
   "execution_count": 54,
   "metadata": {
    "scrolled": true
   },
   "outputs": [],
   "source": [
    "data_new.drop(['Month','Enquiry_Id','Enquiry_Date','No_of_Windows','State','Pincode','City',\n",
    "               'First_Action-Call_made','Date_DD/MM/YY','Date of Appointment (DD/MM/YY)',\n",
    "               'Date-DD/MM/YY.2','Quote_ID(as_per_match_to_CCC_Records)','Date-DD/MM/YY.3',\n",
    "               'Second-Action-Call-Status.1','Aesthetics','Reduce_Street_Noise','Low_Maintenance',\n",
    "               'Remarks-Brand-and-value-if-lost-to-UPVC',\n",
    "               'Monsoon_Proof','Better_Lighting', 'Reduce_AC_Energy_Cost'],axis ='columns',inplace=True)"
   ]
  },
  {
   "cell_type": "markdown",
   "metadata": {},
   "source": [
    "### Droping redundant columns/attributes"
   ]
  },
  {
   "cell_type": "raw",
   "metadata": {},
   "source": [
    "1. The ID Columns can be removed.\n",
    "2. State and First Action call made variables have only one observation in them. They can be removed.\n",
    "3. Second Action Call Status column is empty and can be removed\n",
    "4. Benefits and its associated Dummies can be removed because it has a lot of missing values(almost 80%).\n",
    "5. Pincode is treated as numerical variable here. It should be categorical. It has a lot of pincodes(103). If we convert it into categorial variable it will have 103 categories and 103 dummy columns need to be created which is undesirable. So, Pincode should be dropped."
   ]
  },
  {
   "cell_type": "code",
   "execution_count": 55,
   "metadata": {},
   "outputs": [
    {
     "data": {
      "text/html": [
       "<div>\n",
       "<style scoped>\n",
       "    .dataframe tbody tr th:only-of-type {\n",
       "        vertical-align: middle;\n",
       "    }\n",
       "\n",
       "    .dataframe tbody tr th {\n",
       "        vertical-align: top;\n",
       "    }\n",
       "\n",
       "    .dataframe thead th {\n",
       "        text-align: right;\n",
       "    }\n",
       "</style>\n",
       "<table border=\"1\" class=\"dataframe\">\n",
       "  <thead>\n",
       "    <tr style=\"text-align: right;\">\n",
       "      <th></th>\n",
       "      <th>Q-Val.(Rs.Lac)</th>\n",
       "      <th>Order-Val.(Rs.Lac)</th>\n",
       "      <th>Order_QTY</th>\n",
       "      <th>Price_Per_Sft</th>\n",
       "    </tr>\n",
       "  </thead>\n",
       "  <tbody>\n",
       "    <tr>\n",
       "      <th>count</th>\n",
       "      <td>183.000000</td>\n",
       "      <td>48.000000</td>\n",
       "      <td>229.000000</td>\n",
       "      <td>229.000000</td>\n",
       "    </tr>\n",
       "    <tr>\n",
       "      <th>mean</th>\n",
       "      <td>1.842459</td>\n",
       "      <td>1.874375</td>\n",
       "      <td>2.144105</td>\n",
       "      <td>1045.323144</td>\n",
       "    </tr>\n",
       "    <tr>\n",
       "      <th>std</th>\n",
       "      <td>2.595590</td>\n",
       "      <td>2.313372</td>\n",
       "      <td>7.958292</td>\n",
       "      <td>220.032076</td>\n",
       "    </tr>\n",
       "    <tr>\n",
       "      <th>min</th>\n",
       "      <td>0.010000</td>\n",
       "      <td>0.070000</td>\n",
       "      <td>0.000000</td>\n",
       "      <td>650.000000</td>\n",
       "    </tr>\n",
       "    <tr>\n",
       "      <th>25%</th>\n",
       "      <td>0.550000</td>\n",
       "      <td>0.530000</td>\n",
       "      <td>0.000000</td>\n",
       "      <td>921.000000</td>\n",
       "    </tr>\n",
       "    <tr>\n",
       "      <th>50%</th>\n",
       "      <td>1.070000</td>\n",
       "      <td>1.150000</td>\n",
       "      <td>0.000000</td>\n",
       "      <td>1030.000000</td>\n",
       "    </tr>\n",
       "    <tr>\n",
       "      <th>75%</th>\n",
       "      <td>2.000000</td>\n",
       "      <td>1.622500</td>\n",
       "      <td>0.000000</td>\n",
       "      <td>1129.000000</td>\n",
       "    </tr>\n",
       "    <tr>\n",
       "      <th>max</th>\n",
       "      <td>25.000000</td>\n",
       "      <td>10.950000</td>\n",
       "      <td>73.000000</td>\n",
       "      <td>3121.000000</td>\n",
       "    </tr>\n",
       "  </tbody>\n",
       "</table>\n",
       "</div>"
      ],
      "text/plain": [
       "       Q-Val.(Rs.Lac)  Order-Val.(Rs.Lac)   Order_QTY  Price_Per_Sft\n",
       "count      183.000000           48.000000  229.000000     229.000000\n",
       "mean         1.842459            1.874375    2.144105    1045.323144\n",
       "std          2.595590            2.313372    7.958292     220.032076\n",
       "min          0.010000            0.070000    0.000000     650.000000\n",
       "25%          0.550000            0.530000    0.000000     921.000000\n",
       "50%          1.070000            1.150000    0.000000    1030.000000\n",
       "75%          2.000000            1.622500    0.000000    1129.000000\n",
       "max         25.000000           10.950000   73.000000    3121.000000"
      ]
     },
     "execution_count": 55,
     "metadata": {},
     "output_type": "execute_result"
    }
   ],
   "source": [
    "data_new.describe()"
   ]
  },
  {
   "cell_type": "markdown",
   "metadata": {},
   "source": [
    "### Plot: 15 Outlier Analysis for \"Q-Val.(Rs.Lac)\""
   ]
  },
  {
   "cell_type": "code",
   "execution_count": 56,
   "metadata": {},
   "outputs": [
    {
     "data": {
      "text/plain": [
       "<function matplotlib.pyplot.show(*args, **kw)>"
      ]
     },
     "execution_count": 56,
     "metadata": {},
     "output_type": "execute_result"
    },
    {
     "data": {
      "image/png": "[encoded data removed]",
      "text/plain": [
       "<Figure size 432x288 with 1 Axes>"
      ]
     },
     "metadata": {
      "needs_background": "light"
     },
     "output_type": "display_data"
    }
   ],
   "source": [
    "%matplotlib inline\n",
    "sns.boxplot(data_new[\"Q-Val.(Rs.Lac)\"])\n",
    "plt.show"
   ]
  },
  {
   "cell_type": "markdown",
   "metadata": {},
   "source": [
    "### Plot: 16 Outlier Analysis for \"Order-Val.(Rs.Lac)\""
   ]
  },
  {
   "cell_type": "code",
   "execution_count": 57,
   "metadata": {
    "scrolled": true
   },
   "outputs": [
    {
     "data": {
      "text/plain": [
       "<function matplotlib.pyplot.show(*args, **kw)>"
      ]
     },
     "execution_count": 57,
     "metadata": {},
     "output_type": "execute_result"
    },
    {
     "data": {
      "image/png": "[encoded data removed]",
      "text/plain": [
       "<Figure size 432x288 with 1 Axes>"
      ]
     },
     "metadata": {
      "needs_background": "light"
     },
     "output_type": "display_data"
    }
   ],
   "source": [
    "%matplotlib inline\n",
    "sns.boxplot(data_new[\"Order-Val.(Rs.Lac)\"])\n",
    "plt.show"
   ]
  },
  {
   "cell_type": "markdown",
   "metadata": {},
   "source": [
    "### Plot: 17 Outlier Analysis for Price per square feet"
   ]
  },
  {
   "cell_type": "code",
   "execution_count": 58,
   "metadata": {},
   "outputs": [
    {
     "data": {
      "text/plain": [
       "<function matplotlib.pyplot.show(*args, **kw)>"
      ]
     },
     "execution_count": 58,
     "metadata": {},
     "output_type": "execute_result"
    },
    {
     "data": {
      "image/png": "[encoded data removed]",
      "text/plain": [
       "<Figure size 432x288 with 1 Axes>"
      ]
     },
     "metadata": {
      "needs_background": "light"
     },
     "output_type": "display_data"
    }
   ],
   "source": [
    "%matplotlib inline\n",
    "sns.boxplot(data_new[\"Price_Per_Sft\"])\n",
    "plt.show"
   ]
  },
  {
   "cell_type": "raw",
   "metadata": {},
   "source": [
    "Observation:\n",
    "Though we can see oulier's, without predominent knowledge we can't drop them or impute."
   ]
  },
  {
   "cell_type": "markdown",
   "metadata": {},
   "source": [
    "## DEALER ANALYSIS"
   ]
  },
  {
   "cell_type": "code",
   "execution_count": 59,
   "metadata": {},
   "outputs": [],
   "source": [
    "data_new = data.copy()"
   ]
  },
  {
   "cell_type": "code",
   "execution_count": 60,
   "metadata": {},
   "outputs": [
    {
     "data": {
      "text/plain": [
       "(229, 43)"
      ]
     },
     "execution_count": 60,
     "metadata": {},
     "output_type": "execute_result"
    }
   ],
   "source": [
    "data_new.shape"
   ]
  },
  {
   "cell_type": "code",
   "execution_count": 61,
   "metadata": {},
   "outputs": [
    {
     "data": {
      "text/plain": [
       "Direct        63\n",
       "Windoors      45\n",
       "Sunbird       36\n",
       "OXXO          20\n",
       "Winfratech    20\n",
       "Pearlson      16\n",
       "Rajtechnis    15\n",
       "ITP           14\n",
       "Name: Dealer_Name, dtype: int64"
      ]
     },
     "execution_count": 61,
     "metadata": {},
     "output_type": "execute_result"
    }
   ],
   "source": [
    "data_new['Dealer_Name'].value_counts()"
   ]
  },
  {
   "cell_type": "code",
   "execution_count": 62,
   "metadata": {},
   "outputs": [
    {
     "data": {
      "text/plain": [
       "Lost    25\n",
       "Won     11\n",
       "Name: Status, dtype: int64"
      ]
     },
     "execution_count": 62,
     "metadata": {},
     "output_type": "execute_result"
    }
   ],
   "source": [
    "data_new[data_new['Dealer_Name']=='Sunbird']['Status'].value_counts()"
   ]
  },
  {
   "cell_type": "code",
   "execution_count": 63,
   "metadata": {},
   "outputs": [
    {
     "data": {
      "text/html": [
       "<div>\n",
       "<style scoped>\n",
       "    .dataframe tbody tr th:only-of-type {\n",
       "        vertical-align: middle;\n",
       "    }\n",
       "\n",
       "    .dataframe tbody tr th {\n",
       "        vertical-align: top;\n",
       "    }\n",
       "\n",
       "    .dataframe thead th {\n",
       "        text-align: right;\n",
       "    }\n",
       "</style>\n",
       "<table border=\"1\" class=\"dataframe\">\n",
       "  <thead>\n",
       "    <tr style=\"text-align: right;\">\n",
       "      <th>Status</th>\n",
       "      <th>Lost</th>\n",
       "      <th>Won</th>\n",
       "    </tr>\n",
       "    <tr>\n",
       "      <th>Dealer_Name</th>\n",
       "      <th></th>\n",
       "      <th></th>\n",
       "    </tr>\n",
       "  </thead>\n",
       "  <tbody>\n",
       "    <tr>\n",
       "      <th>Direct</th>\n",
       "      <td>38</td>\n",
       "      <td>25</td>\n",
       "    </tr>\n",
       "    <tr>\n",
       "      <th>ITP</th>\n",
       "      <td>14</td>\n",
       "      <td>0</td>\n",
       "    </tr>\n",
       "    <tr>\n",
       "      <th>OXXO</th>\n",
       "      <td>16</td>\n",
       "      <td>4</td>\n",
       "    </tr>\n",
       "    <tr>\n",
       "      <th>Pearlson</th>\n",
       "      <td>12</td>\n",
       "      <td>4</td>\n",
       "    </tr>\n",
       "    <tr>\n",
       "      <th>Rajtechnis</th>\n",
       "      <td>14</td>\n",
       "      <td>1</td>\n",
       "    </tr>\n",
       "    <tr>\n",
       "      <th>Sunbird</th>\n",
       "      <td>25</td>\n",
       "      <td>11</td>\n",
       "    </tr>\n",
       "    <tr>\n",
       "      <th>Windoors</th>\n",
       "      <td>39</td>\n",
       "      <td>6</td>\n",
       "    </tr>\n",
       "    <tr>\n",
       "      <th>Winfratech</th>\n",
       "      <td>18</td>\n",
       "      <td>2</td>\n",
       "    </tr>\n",
       "  </tbody>\n",
       "</table>\n",
       "</div>"
      ],
      "text/plain": [
       "Status       Lost  Won\n",
       "Dealer_Name           \n",
       "Direct         38   25\n",
       "ITP            14    0\n",
       "OXXO           16    4\n",
       "Pearlson       12    4\n",
       "Rajtechnis     14    1\n",
       "Sunbird        25   11\n",
       "Windoors       39    6\n",
       "Winfratech     18    2"
      ]
     },
     "execution_count": 63,
     "metadata": {},
     "output_type": "execute_result"
    }
   ],
   "source": [
    "pd.crosstab(data['Dealer_Name'],data.Status)"
   ]
  },
  {
   "cell_type": "code",
   "execution_count": 64,
   "metadata": {},
   "outputs": [
    {
     "data": {
      "text/plain": [
       "Text(0, 0.5, 'Count of enquiries materialised and immaterialised')"
      ]
     },
     "execution_count": 64,
     "metadata": {},
     "output_type": "execute_result"
    },
    {
     "data": {
      "image/png": "[encoded data removed]",
      "text/plain": [
       "<Figure size 432x288 with 1 Axes>"
      ]
     },
     "metadata": {
      "needs_background": "light"
     },
     "output_type": "display_data"
    }
   ],
   "source": [
    "pd.crosstab(data['Dealer_Name'],data.Status).plot(kind='bar')\n",
    "plt.title('Dealer enquiries Status')\n",
    "plt.xlabel('Dealer')\n",
    "plt.ylabel('Count of enquiries materialised and immaterialised')"
   ]
  },
  {
   "cell_type": "code",
   "execution_count": 136,
   "metadata": {},
   "outputs": [
    {
     "data": {
      "text/html": [
       "<div>\n",
       "<style scoped>\n",
       "    .dataframe tbody tr th:only-of-type {\n",
       "        vertical-align: middle;\n",
       "    }\n",
       "\n",
       "    .dataframe tbody tr th {\n",
       "        vertical-align: top;\n",
       "    }\n",
       "\n",
       "    .dataframe thead th {\n",
       "        text-align: right;\n",
       "    }\n",
       "</style>\n",
       "<table border=\"1\" class=\"dataframe\">\n",
       "  <thead>\n",
       "    <tr style=\"text-align: right;\">\n",
       "      <th>Status</th>\n",
       "      <th>Lost</th>\n",
       "      <th>Won</th>\n",
       "    </tr>\n",
       "    <tr>\n",
       "      <th>Dealer_Name</th>\n",
       "      <th></th>\n",
       "      <th></th>\n",
       "    </tr>\n",
       "  </thead>\n",
       "  <tbody>\n",
       "    <tr>\n",
       "      <th>Direct</th>\n",
       "      <td>19</td>\n",
       "      <td>13</td>\n",
       "    </tr>\n",
       "    <tr>\n",
       "      <th>ITP</th>\n",
       "      <td>7</td>\n",
       "      <td>0</td>\n",
       "    </tr>\n",
       "    <tr>\n",
       "      <th>OXXO</th>\n",
       "      <td>9</td>\n",
       "      <td>2</td>\n",
       "    </tr>\n",
       "    <tr>\n",
       "      <th>Pearlson</th>\n",
       "      <td>12</td>\n",
       "      <td>4</td>\n",
       "    </tr>\n",
       "    <tr>\n",
       "      <th>Rajtechnis</th>\n",
       "      <td>13</td>\n",
       "      <td>1</td>\n",
       "    </tr>\n",
       "    <tr>\n",
       "      <th>Sunbird</th>\n",
       "      <td>18</td>\n",
       "      <td>9</td>\n",
       "    </tr>\n",
       "    <tr>\n",
       "      <th>Windoors</th>\n",
       "      <td>19</td>\n",
       "      <td>5</td>\n",
       "    </tr>\n",
       "    <tr>\n",
       "      <th>Winfratech</th>\n",
       "      <td>13</td>\n",
       "      <td>2</td>\n",
       "    </tr>\n",
       "  </tbody>\n",
       "</table>\n",
       "</div>"
      ],
      "text/plain": [
       "Status       Lost  Won\n",
       "Dealer_Name           \n",
       "Direct         19   13\n",
       "ITP             7    0\n",
       "OXXO            9    2\n",
       "Pearlson       12    4\n",
       "Rajtechnis     13    1\n",
       "Sunbird        18    9\n",
       "Windoors       19    5\n",
       "Winfratech     13    2"
      ]
     },
     "execution_count": 136,
     "metadata": {},
     "output_type": "execute_result"
    }
   ],
   "source": [
    "pd.crosstab(data_new['Dealer_Name'],data.Status)"
   ]
  },
  {
   "cell_type": "code",
   "execution_count": 142,
   "metadata": {},
   "outputs": [
    {
     "data": {
      "image/png": "[encoded data removed]",
      "text/plain": [
       "<Figure size 864x576 with 1 Axes>"
      ]
     },
     "metadata": {
      "needs_background": "light"
     },
     "output_type": "display_data"
    }
   ],
   "source": [
    "data_newsort=data_new.sort_values(by=['Dealer_Name'])\n",
    "\n",
    "# Plot the figure.\n",
    "plt.figure(figsize=(12, 8))\n",
    "ax = data_new['Dealer_Name'][data.Status=='Won'].value_counts().plot(kind='bar')\n",
    "ax.set_title('Dealers Won')\n",
    "ax.set_xlabel('Dealer_Name')\n",
    "ax.set_ylabel('Won Count')\n",
    "#ax.set_xticklabels(x_labels)\n",
    "\n",
    "\n",
    "def add_value_labels(ax, spacing=5):\n",
    "    \"\"\"Add labels to the end of each bar in a bar chart.\n",
    "\n",
    "    Arguments:\n",
    "        ax (matplotlib.axes.Axes): The matplotlib object containing the axes\n",
    "            of the plot to annotate.\n",
    "        spacing (int): The distance between the labels and the bars.\n",
    "    \"\"\"\n",
    "\n",
    "    # For each bar: Place a label\n",
    "    for rect in ax.patches:\n",
    "        # Get X and Y placement of label from rect.\n",
    "        y_value = rect.get_height()\n",
    "        x_value = rect.get_x() + rect.get_width() / 2\n",
    "\n",
    "        # Number of points between bar and label. Change to your liking.\n",
    "        space = spacing\n",
    "        # Vertical alignment for positive values\n",
    "        va = 'bottom'\n",
    "\n",
    "\n",
    "        # Use Y value as label and format number with one decimal place\n",
    "        label = \"{:.1f}\".format(y_value)\n",
    "\n",
    "        # Create annotation\n",
    "        ax.annotate(\n",
    "            label,                      # Use `label` as label\n",
    "            (x_value, y_value),         # Place label at end of the bar\n",
    "            xytext=(0, space),          # Vertically shift label by `space`\n",
    "            textcoords=\"offset points\", # Interpret `xytext` as offset in points\n",
    "            ha='center',                # Horizontally center label\n",
    "            va=va)                      # Vertically align label differently for\n",
    "                                        # positive and negative values.\n",
    "\n",
    "\n",
    "# Call the function above. All the magic happens there.\n",
    "add_value_labels(ax)\n",
    "\n",
    "plt.savefig(\"image.png\")"
   ]
  },
  {
   "cell_type": "raw",
   "metadata": {},
   "source": [
    "Observation:\n",
    "1. Direct has most number of enquiries.\n",
    "2. Dealer ITP has lost all of them.\n",
    "3. Dealer sunbird is doing a good job in business conversion.\n",
    "\n",
    "Inference:\n",
    "1. Company must analyse the gaps present between the direct and the dealers approach.\n",
    "2. ITP, Rajtechnis and Winfratech dealers must be closely reviewed and action has to be taken.\n",
    "2. Further study has to be done in picking the important variables and loss prediction has to be done through machine learning models."
   ]
  },
  {
   "cell_type": "code",
   "execution_count": null,
   "metadata": {},
   "outputs": [],
   "source": []
  },
  {
   "cell_type": "code",
   "execution_count": null,
   "metadata": {},
   "outputs": [],
   "source": []
  },
  {
   "cell_type": "code",
   "execution_count": null,
   "metadata": {},
   "outputs": [],
   "source": []
  }
 ],
 "metadata": {
  "kernelspec": {
   "display_name": "Python 3",
   "language": "python",
   "name": "python3"
  },
  "language_info": {
   "codemirror_mode": {
    "name": "ipython",
    "version": 3
   },
   "file_extension": ".py",
   "mimetype": "text/x-python",
   "name": "python",
   "nbconvert_exporter": "python",
   "pygments_lexer": "ipython3",
   "version": "3.7.3"
  }
 },
 "nbformat": 4,
 "nbformat_minor": 2
}
